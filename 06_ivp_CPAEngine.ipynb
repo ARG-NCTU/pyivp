{
 "cells": [
  {
   "cell_type": "markdown",
   "id": "8289f1c6",
   "metadata": {},
   "source": [
    "# pyivp.CPAEngine\n",
    "\n",
    "> API details."
   ]
  },
  {
   "cell_type": "code",
   "execution_count": null,
   "id": "0887112e",
   "metadata": {},
   "outputs": [],
   "source": [
    "from nbdev.showdoc import *"
   ]
  },
  {
   "cell_type": "markdown",
   "id": "1a305f05",
   "metadata": {},
   "source": [
    "### Compile and Install lib_pyivp (partially)"
   ]
  },
  {
   "cell_type": "code",
   "execution_count": null,
   "id": "994a79a2",
   "metadata": {},
   "outputs": [
    {
     "name": "stdout",
     "output_type": "stream",
     "text": [
      "make -C src\n",
      "make[1]: Entering directory '/home/arg/pyivp/src'\n",
      "mkdir build; cd build; cmake ..; make\n",
      "mkdir: cannot create directory ‘build’: File exists\n",
      "-------------------------------------------------------Use UTM:ON\n",
      "+++++++++++++++++++++++++++++++++++++++++\n",
      "IVP_GUI_CODE will be built......         \n",
      "+++++++++++++++++++++++++++++++++++++++++\n",
      "USING UTM\n",
      "+++++++++++++++++++++++++++++++++++++++++\n",
      "IVP_LIB_DIRECTORY:/usr/local/lib/\n",
      "+++++++++++++++++++++++++++++++++++++++++\n",
      "Bin directory: /home/arg/bin\n",
      "Include directory: /usr/local/include\n",
      "Lib directory: /usr/local/lib/\n",
      "-- Configuring done\n",
      "-- Generating done\n",
      "-- Build files have been written to: /home/arg/pyivp/src/build\n",
      "make[2]: Entering directory '/home/arg/pyivp/src/build'\n",
      "make[3]: Entering directory '/home/arg/pyivp/src/build'\n",
      "make[4]: Entering directory '/home/arg/pyivp/src/build'\n",
      "make[4]: Leaving directory '/home/arg/pyivp/src/build'\n",
      "[ 23%] Built target mbutil\n",
      "make[4]: Entering directory '/home/arg/pyivp/src/build'\n",
      "make[4]: Leaving directory '/home/arg/pyivp/src/build'\n",
      "[100%] Built target geometry\n",
      "make[3]: Leaving directory '/home/arg/pyivp/src/build'\n",
      "make[2]: Leaving directory '/home/arg/pyivp/src/build'\n",
      "make[1]: Leaving directory '/home/arg/pyivp/src'\n",
      "make -C src_unit_tests \n",
      "make[1]: Entering directory '/home/arg/pyivp/src_unit_tests'\n",
      "mkdir build; cd build; cmake ..; make; \n",
      "mkdir: cannot create directory ‘build’: File exists\n",
      " Apps to be built: utest;testConvexHull;testLeftTurn;testIncIntString;testLineCircleIntPts;testSegCircleIntPts;testArcSegCross;testArcSegCrossPts;testDistPointOnArc;testDistPointToArc;testDistPointToArcPt;testDistPtsOnArc;testDistSegToArc;testAngleDiff;testAngleInArc;testSegRayCPA;testPolyRayCPA;testBearingMinMaxToPoly;testDistPointToRay;testCpasRaySegl;testCpasArcSegl\n",
      "-- Configuring done\n",
      "-- Generating done\n",
      "-- Build files have been written to: /home/arg/pyivp/src_unit_tests/build\n",
      "make[2]: Entering directory '/home/arg/pyivp/src_unit_tests/build'\n",
      "make[3]: Entering directory '/home/arg/pyivp/src_unit_tests/build'\n",
      "make[4]: Entering directory '/home/arg/pyivp/src_unit_tests/build'\n",
      "make[4]: Leaving directory '/home/arg/pyivp/src_unit_tests/build'\n",
      "[  6%] Built target utest\n",
      "make[4]: Entering directory '/home/arg/pyivp/src_unit_tests/build'\n",
      "make[4]: Leaving directory '/home/arg/pyivp/src_unit_tests/build'\n",
      "[ 11%] Built target testConvexHull\n",
      "make[4]: Entering directory '/home/arg/pyivp/src_unit_tests/build'\n",
      "make[4]: Leaving directory '/home/arg/pyivp/src_unit_tests/build'\n",
      "[ 16%] Built target testLeftTurn\n",
      "make[4]: Entering directory '/home/arg/pyivp/src_unit_tests/build'\n",
      "make[4]: Leaving directory '/home/arg/pyivp/src_unit_tests/build'\n",
      "[ 20%] Built target testIncIntString\n",
      "make[4]: Entering directory '/home/arg/pyivp/src_unit_tests/build'\n",
      "make[4]: Leaving directory '/home/arg/pyivp/src_unit_tests/build'\n",
      "[ 25%] Built target testLineCircleIntPts\n",
      "make[4]: Entering directory '/home/arg/pyivp/src_unit_tests/build'\n",
      "make[4]: Leaving directory '/home/arg/pyivp/src_unit_tests/build'\n",
      "[ 30%] Built target testSegCircleIntPts\n",
      "make[4]: Entering directory '/home/arg/pyivp/src_unit_tests/build'\n",
      "make[4]: Leaving directory '/home/arg/pyivp/src_unit_tests/build'\n",
      "[ 34%] Built target testArcSegCross\n",
      "make[4]: Entering directory '/home/arg/pyivp/src_unit_tests/build'\n",
      "make[4]: Leaving directory '/home/arg/pyivp/src_unit_tests/build'\n",
      "[ 39%] Built target testArcSegCrossPts\n",
      "make[4]: Entering directory '/home/arg/pyivp/src_unit_tests/build'\n",
      "make[4]: Leaving directory '/home/arg/pyivp/src_unit_tests/build'\n",
      "[ 44%] Built target testDistPointOnArc\n",
      "make[4]: Entering directory '/home/arg/pyivp/src_unit_tests/build'\n",
      "make[4]: Leaving directory '/home/arg/pyivp/src_unit_tests/build'\n",
      "[ 48%] Built target testDistPointToArc\n",
      "make[4]: Entering directory '/home/arg/pyivp/src_unit_tests/build'\n",
      "make[4]: Leaving directory '/home/arg/pyivp/src_unit_tests/build'\n",
      "[ 53%] Built target testDistPointToArcPt\n",
      "make[4]: Entering directory '/home/arg/pyivp/src_unit_tests/build'\n",
      "make[4]: Leaving directory '/home/arg/pyivp/src_unit_tests/build'\n",
      "[ 58%] Built target testDistPtsOnArc\n",
      "make[4]: Entering directory '/home/arg/pyivp/src_unit_tests/build'\n",
      "make[4]: Leaving directory '/home/arg/pyivp/src_unit_tests/build'\n",
      "[ 62%] Built target testDistSegToArc\n",
      "make[4]: Entering directory '/home/arg/pyivp/src_unit_tests/build'\n",
      "make[4]: Leaving directory '/home/arg/pyivp/src_unit_tests/build'\n",
      "[ 67%] Built target testAngleDiff\n",
      "make[4]: Entering directory '/home/arg/pyivp/src_unit_tests/build'\n",
      "make[4]: Leaving directory '/home/arg/pyivp/src_unit_tests/build'\n",
      "[ 72%] Built target testAngleInArc\n",
      "make[4]: Entering directory '/home/arg/pyivp/src_unit_tests/build'\n",
      "make[4]: Leaving directory '/home/arg/pyivp/src_unit_tests/build'\n",
      "[ 76%] Built target testSegRayCPA\n",
      "make[4]: Entering directory '/home/arg/pyivp/src_unit_tests/build'\n",
      "make[4]: Leaving directory '/home/arg/pyivp/src_unit_tests/build'\n",
      "[ 81%] Built target testPolyRayCPA\n",
      "make[4]: Entering directory '/home/arg/pyivp/src_unit_tests/build'\n",
      "make[4]: Leaving directory '/home/arg/pyivp/src_unit_tests/build'\n",
      "[ 86%] Built target testBearingMinMaxToPoly\n",
      "make[4]: Entering directory '/home/arg/pyivp/src_unit_tests/build'\n",
      "make[4]: Leaving directory '/home/arg/pyivp/src_unit_tests/build'\n",
      "[ 90%] Built target testDistPointToRay\n",
      "make[4]: Entering directory '/home/arg/pyivp/src_unit_tests/build'\n",
      "make[4]: Leaving directory '/home/arg/pyivp/src_unit_tests/build'\n",
      "[ 95%] Built target testCpasRaySegl\n",
      "make[4]: Entering directory '/home/arg/pyivp/src_unit_tests/build'\n",
      "make[4]: Leaving directory '/home/arg/pyivp/src_unit_tests/build'\n",
      "[100%] Built target testCpasArcSegl\n",
      "make[3]: Leaving directory '/home/arg/pyivp/src_unit_tests/build'\n",
      "make[2]: Leaving directory '/home/arg/pyivp/src_unit_tests/build'\n",
      "make[1]: Leaving directory '/home/arg/pyivp/src_unit_tests'\n",
      "make -C src/pybind11 \n",
      "make[1]: Entering directory '/home/arg/pyivp/src/pybind11'\n",
      "mkdir build; cd build; cmake ..; make; make install\n",
      "mkdir: cannot create directory ‘build’: File exists\n",
      "-- Configuring done\n",
      "-- Generating done\n",
      "-- Build files have been written to: /home/arg/pyivp/src/pybind11/build\n",
      "make[2]: Entering directory '/home/arg/pyivp/src/pybind11/build'\n",
      "make[3]: Entering directory '/home/arg/pyivp/src/pybind11/build'\n",
      "make[4]: Entering directory '/home/arg/pyivp/src/pybind11/build'\n",
      "make[4]: Leaving directory '/home/arg/pyivp/src/pybind11/build'\n",
      "[100%] Built target pyivp\n",
      "make[3]: Leaving directory '/home/arg/pyivp/src/pybind11/build'\n",
      "make[2]: Leaving directory '/home/arg/pyivp/src/pybind11/build'\n",
      "make[2]: Entering directory '/home/arg/pyivp/src/pybind11/build'\n",
      "make[3]: Entering directory '/home/arg/pyivp/src/pybind11/build'\n",
      "make[4]: Entering directory '/home/arg/pyivp/src/pybind11/build'\n",
      "make[4]: Leaving directory '/home/arg/pyivp/src/pybind11/build'\n",
      "[100%] Built target pyivp\n",
      "make[3]: Leaving directory '/home/arg/pyivp/src/pybind11/build'\n",
      "\u001b[36mInstall the project...\u001b[0m\n",
      "-- Install configuration: \"Release\"\n",
      "-- Up-to-date: /usr/lib/python3/dist-packages/pyivp.cpython-38-x86_64-linux-gnu.so\n",
      "make[2]: Leaving directory '/home/arg/pyivp/src/pybind11/build'\n",
      "make[1]: Leaving directory '/home/arg/pyivp/src/pybind11'\n",
      "nbdev_clean_nbs\n",
      "cd src_unit_tests; ./alltest.sh\n",
      "===========================================\n",
      "NOTE: build  has no cases.utf file to check\n",
      "===========================================\n",
      "===========================================\n",
      "Checking: testAngleDiff/cases.utf\n",
      "===========================================\n",
      "Testing file: cases.utf\n",
      " Line 2 OK \n",
      " Line 3 OK \n",
      " Line 4 OK \n",
      " Line 6 OK \n",
      " Line 8 OK \n",
      " Line 9 OK \n",
      " Line 10 OK \n",
      " Line 11 OK \n",
      " Line 12 OK \n",
      " Line 13 OK \n",
      " Line 14 OK \n",
      " Line 15 OK \n",
      " Line 16 OK \n",
      " Line 17 OK \n",
      " Line 18 OK \n",
      " Line 19 OK \n",
      " Line 20 OK \n",
      " Line 21 OK \n",
      " Line 22 OK \n",
      " Line 23 OK \n",
      " Line 24 OK \n",
      "===========================================\n",
      "Checking: testAngleInArc/cases.utf\n",
      "===========================================\n",
      "Testing file: cases.utf\n",
      " Line 2 OK \n",
      " Line 3 OK \n",
      " Line 4 OK \n",
      " Line 5 OK \n",
      " Line 6 OK \n",
      " Line 7 OK \n",
      " Line 8 OK \n",
      " Line 10 OK \n",
      " Line 11 OK \n",
      " Line 13 OK \n",
      " Line 14 OK \n",
      " Line 16 OK \n",
      " Line 17 OK \n",
      " Line 21 OK \n",
      "===========================================\n",
      "Checking: testArcSegCross/cases.utf\n",
      "===========================================\n",
      "Testing file: cases.utf\n",
      " Line 2 OK \n",
      " Line 3 OK \n",
      " Line 4 OK \n",
      "===========================================\n",
      "Checking: testArcSegCrossPts/cases.utf\n",
      "===========================================\n",
      "Testing file: cases.utf\n",
      " Line 2 OK \n",
      " Line 3 OK \n",
      " Line 6 OK \n"
     ]
    },
    {
     "name": "stdout",
     "output_type": "stream",
     "text": [
      "===========================================\n",
      "Checking: testBearingMinMaxToPoly/cases.utf\n",
      "===========================================\n",
      "Testing file: cases.utf\n",
      " Line 3 FAIL \n",
      "sys_cmd: [testBearingMinMaxToPoly poly=250,-50:275,-50:275,-25:250,-25  px=15 py=5]\n",
      "results: [bmin=96.58,bmax=103.17]\n",
      "expected:[bmin=96.58,bmax=97.28]\n",
      " Line 4 FAIL \n",
      "sys_cmd: [testBearingMinMaxToPoly poly=250,-50:275,-50:275,-25:250,-25  px=15 py=-40]\n",
      "results: [bmin=86.35,bmax=92.44]\n",
      "expected:[bmin=86.35,bmax=92.44]\n",
      "Failed on test file: cases.utf\n",
      "===========================================\n",
      "Checking: testConvexHull/cases.utf\n",
      "===========================================\n",
      "Testing file: cases.utf\n",
      " Line 3 FAIL \n",
      "sys_cmd: [testSegRayCPA pts={107.5,-53.5:112,-43.8:112,-46.1:111.7,-49.3:108.3,-52.7:107.7,-53.3}]\n",
      "results: [Error:arg[pts={107.5,-53.5:112,-43.8:112,-46.1:111.7,-49.3:108.3,-52.7:107.7,-53.3}]Exiting.]\n",
      "expected:[]\n",
      "Failed on test file: cases.utf\n",
      "===========================================\n",
      "Checking: testCpasArcSegl/cases.utf\n",
      "===========================================\n",
      "Testing file: cases.utf\n",
      " Line 4 OK \n",
      " Line 9 OK \n",
      " Line 13 OK \n",
      "===========================================\n",
      "Checking: testCpasRaySegl/cases.utf\n",
      "===========================================\n",
      "Testing file: cases.utf\n",
      " Line 3 OK \n",
      " Line 6 OK \n",
      " Line 9 OK \n",
      " Line 14 OK \n",
      "===========================================\n",
      "Checking: testDistPointOnArc/cases.utf\n",
      "===========================================\n",
      "Testing file: cases.utf\n",
      " Line 3 OK \n",
      " Line 4 OK \n",
      " Line 6 OK \n",
      " Line 7 OK \n",
      "===========================================\n",
      "Checking: testDistPointToArc/cases.utf\n",
      "===========================================\n",
      "Testing file: cases.utf\n",
      " Line 3 OK \n",
      " Line 4 OK \n",
      " Line 5 OK \n",
      " Line 6 OK \n",
      " Line 8 OK \n",
      " Line 9 OK \n",
      " Line 10 OK \n",
      "===========================================\n",
      "Checking: testDistPointToArcPt/cases.utf\n",
      "===========================================\n",
      "Testing file: cases.utf\n",
      " Line 5 OK \n",
      " Line 9 OK \n",
      " Line 13 OK \n",
      " Line 17 OK \n",
      " Line 21 OK \n",
      " Line 26 OK \n",
      "===========================================\n",
      "Checking: testDistPointToRay/cases.utf\n",
      "===========================================\n",
      "Testing file: cases.utf\n",
      " Line 3 OK \n",
      " Line 5 OK \n",
      " Line 6 OK \n",
      " Line 7 OK \n",
      " Line 9 OK \n",
      "===========================================\n",
      "Checking: testDistPtsOnArc/cases.utf\n",
      "===========================================\n",
      "Testing file: cases.utf\n",
      "===========================================\n",
      "Checking: testDistSegListToArc/cases.utf\n",
      "===========================================\n",
      "Testing file: cases.utf\n",
      " Line 3 OK \n",
      " Line 4 OK \n",
      " Line 6 OK \n",
      " Line 7 OK \n",
      " Line 8 OK \n",
      " Line 10 OK \n",
      " Line 13 OK \n",
      " Line 14 OK \n",
      "===========================================\n",
      "Checking: testDistSegToArc/cases.utf\n",
      "===========================================\n",
      "Testing file: cases.utf\n",
      " Line 3 OK \n",
      " Line 4 OK \n",
      " Line 6 OK \n",
      " Line 7 OK \n",
      " Line 8 OK \n",
      " Line 10 OK \n",
      " Line 13 OK \n",
      " Line 14 OK \n",
      " Line 16 OK \n",
      "===========================================\n",
      "Checking: testIncIntString/cases.utf\n",
      "===========================================\n",
      "Testing file: cases.utf\n",
      " Line 2 FAIL \n",
      "sys_cmd: [testIncIntString str=foo23       amt=1  keep=true]\n",
      "results: [new_str=24]\n",
      "expected:[new_str=foo24]\n",
      " Line 3 FAIL \n",
      "sys_cmd: [testIncIntString str=foo23bar    amt=3  keep=true]\n",
      "results: [new_str=26]\n",
      "expected:[new_str=foo26]\n",
      " Line 4 FAIL \n",
      "sys_cmd: [testIncIntString str=foo23bar34  amt=1  keep=true]\n",
      "results: [new_str=2335]\n",
      "expected:[new_str=foo2335]\n",
      " Line 7 OK \n",
      " Line 8 OK \n",
      "Failed on test file: cases.utf\n",
      "===========================================\n",
      "Checking: testLeftTurn/cases.utf\n",
      "===========================================\n",
      "Testing file: cases.utf\n",
      " Line 2 FAIL \n",
      "sys_cmd: [testLeftTurn x1=0 y1=0 x2=0 y2=40 x3=50 y3=40]\n",
      "results: [left_turn=false]\n",
      "expected:[left_turn=true]\n",
      " Line 3 OK \n",
      "Failed on test file: cases.utf\n",
      "===========================================\n",
      "NOTE: testLineCircleIntPts  has no cases.utf file to check\n",
      "===========================================\n",
      "===========================================\n",
      "Checking: testPolyRayCPA/cases.utf\n",
      "===========================================\n",
      "Testing file: cases.utf\n",
      " Line 3 OK \n",
      " Line 4 OK \n",
      " Line 5 OK \n",
      " Line 6 OK \n",
      "===========================================\n",
      "Checking: testSegCircleIntPts/cases.utf\n",
      "===========================================\n",
      "Testing file: cases.utf\n",
      " Line 2 OK \n",
      " Line 3 OK \n",
      " Line 5 OK \n",
      " Line 6 OK \n",
      " Line 8 OK \n",
      "===========================================\n",
      "Checking: testSegRayCPA/cases.utf\n",
      "===========================================\n",
      "Testing file: cases.utf\n",
      " Line 3 OK \n",
      " Line 4 OK \n",
      "===========================================\n",
      "Checking: utest/cases.utf\n",
      "===========================================\n",
      "Testing file: cases.utf\n",
      " Line 3 OK \n",
      " Line 4 OK \n",
      " Line 5 OK \n",
      " Line 6 OK \n",
      " Line 7 OK \n",
      " Line 8 OK \n",
      " Line 10 OK \n",
      "===========================================\n",
      "Checking: utgen/cases.utf\n",
      "===========================================\n",
      "Testing file: cases.utf\n",
      " Line 3 OK \n",
      " Line 4 OK \n",
      " Line 5 OK \n",
      " Line 6 OK \n",
      " Line 7 OK \n",
      " Line 8 OK \n",
      " Line 10 OK \n",
      "cd src/pytest; python3 test_pattern_block.py\n",
      "== Test package and local function. ==\n",
      "C++ result x plus y is: 3\n",
      "Python result x plus y is:  3\n",
      "== Test XYPoint ==\n",
      "x=0,y=0\n",
      "x=10,y=15\n"
     ]
    }
   ],
   "source": [
    "! cd ~/pyivp && make"
   ]
  },
  {
   "cell_type": "markdown",
   "id": "0b0785cd",
   "metadata": {},
   "source": [
    "### Run python library in Jupyter Notebook"
   ]
  },
  {
   "cell_type": "code",
   "execution_count": null,
   "id": "f32005a9",
   "metadata": {},
   "outputs": [],
   "source": [
    "import pyivp"
   ]
  },
  {
   "cell_type": "markdown",
   "id": "e67a5317",
   "metadata": {},
   "source": [
    "### CPAEngine\n",
    "create a CPAEngine object, arguments below are necessary for cpa <br />\n",
    "CPAEngine(arg0, arg1, arg2, arg3, arg4, arg5): \n",
    "* arg0&lt;float&gt;: cny, Given Contact Latitude Position\n",
    "* arg1&lt;float&gt;: cnx, Given Contact Longitude Position\n",
    "* arg2&lt;float&gt;: cnh, Given Contact Course (degrees: 0-359)\n",
    "* arg3&lt;float&gt;: cnv, Given Contact Speed (Unit: knots per hour)\n",
    "* arg4&lt;float&gt;: osy, Given Ownship Latitude Position\n",
    "* arg5&lt;float&gt;: osx, Given Ownship Latitude Position"
   ]
  },
  {
   "cell_type": "code",
   "execution_count": null,
   "id": "84005599",
   "metadata": {},
   "outputs": [],
   "source": [
    "pybind_cpa = pyivp.CPAEngine(127, 31, 50, 6, 128, 32)"
   ]
  },
  {
   "cell_type": "code",
   "execution_count": null,
   "id": "512240a6",
   "metadata": {},
   "outputs": [
    {
     "name": "stdout",
     "output_type": "stream",
     "text": [
      "__init__(*args, **kwargs)\n",
      "Overloaded function.\n",
      "\n",
      "1. __init__(self: pyivp.CPAEngine) -> None\n",
      "\n",
      "CPAEngine(), no argument. Please use reset() to assign arguments.\n",
      "\n",
      "2. __init__(self: pyivp.CPAEngine, arg0: float, arg1: float, arg2: float, arg3: float, arg4: float, arg5: float) -> None\n",
      "\n",
      "CPAEngine(arg0, arg1, arg2, arg3, arg4, arg5): create a CPAEngine object, arguments below are necessary for cpa\n",
      "Args: \n",
      "  arg0 <float>: cny, Given Contact Latitude Position \n",
      "  arg1 <float>: cnx, Given Contact Longitude Position \n",
      "  arg2 <float>: cnh, Given Contact Course (degrees: 0-359) \n",
      "  arg3 <float>: cnv, Given Contact Speed (Unit: knots per hour) \n",
      "  arg4 <float>: osy, Given Ownship Latitude Position \n",
      "  arg5 <float>: osx, Given Ownship Latitude Position\n",
      "\n"
     ]
    }
   ],
   "source": [
    "print(pybind_cpa.__init__.__doc__)"
   ]
  },
  {
   "cell_type": "markdown",
   "id": "03ac47d5",
   "metadata": {},
   "source": [
    "you can also change arguments with function: reset(cny, cnx, cnh, cnv, osy, osx)"
   ]
  },
  {
   "cell_type": "code",
   "execution_count": null,
   "id": "dc8ce94c",
   "metadata": {},
   "outputs": [],
   "source": [
    "pybind_cpa.reset(127.63, 31.55, 50, 6, 127.69, 31.94)"
   ]
  },
  {
   "cell_type": "code",
   "execution_count": null,
   "id": "c5ba9cd5",
   "metadata": {},
   "outputs": [
    {
     "name": "stdout",
     "output_type": "stream",
     "text": [
      "reset(self: pyivp.CPAEngine, arg0: float, arg1: float, arg2: float, arg3: float, arg4: float, arg5: float) -> None\n",
      "\n",
      "reset(arg0, arg1, arg2, arg3, arg4, arg5): assign arguments to a existed CPAEngine object, arguments below are necessary for cpa\n",
      "Args: \n",
      "  arg0 <float>: cny, Given Contact Latitude Position \n",
      "  arg1 <float>: cnx, Given Contact Longitude Position \n",
      "  arg2 <float>: cnh, Given Contact Course (degrees: 0-359) \n",
      "  arg3 <float>: cnv, Given Contact Speed (Unit: knots per hour) \n",
      "  arg4 <float>: osy, Given Ownship Latitude Position \n",
      "  arg5 <float>: osx, Given Ownship Latitude Position\n",
      "\n"
     ]
    }
   ],
   "source": [
    "print(pybind_cpa.reset.__doc__)"
   ]
  },
  {
   "cell_type": "markdown",
   "id": "a54f3df4",
   "metadata": {},
   "source": [
    "### CPAEngine - evalCPA\n",
    "evalCPA(arg0, arg1, arg2): \n",
    "* arg0&lt;float&gt;: osh, Given Ownship Course (degrees: 0-359)\n",
    "* arg1&lt;float&gt;: osv, Given Ownship Speed (Unit: kts)\n",
    "* arg2&lt;float&gt;: ostol, Given Ownship Time-on-leg\n",
    "* return: Closest-Point-of-Approach (CPA)"
   ]
  },
  {
   "cell_type": "code",
   "execution_count": null,
   "id": "8b8341c1",
   "metadata": {},
   "outputs": [
    {
     "data": {
      "text/plain": [
       "0.3759416385598786"
      ]
     },
     "execution_count": null,
     "metadata": {},
     "output_type": "execute_result"
    }
   ],
   "source": [
    "pybind_cpa.evalCPA(30, 7, 24)"
   ]
  },
  {
   "cell_type": "code",
   "execution_count": null,
   "id": "9522dfa8",
   "metadata": {},
   "outputs": [
    {
     "name": "stdout",
     "output_type": "stream",
     "text": [
      "evalCPA(self: pyivp.CPAEngine, arg0: float, arg1: float, arg2: float) -> float\n",
      "\n",
      "evalCPA(arg0, arg1, arg2): \n",
      "Args: \n",
      "  arg0 <float>: osh, Given Ownship Course (degrees: 0-359) \n",
      "  arg1 <float>: osv, Given Ownship Speed (Unit: knots per hour) \n",
      "  arg2 <float>: ostol, Given Ownship Time-on-leg \n",
      "return: Closest-Point-of-Approach (CPA)\n",
      "\n"
     ]
    }
   ],
   "source": [
    "print(pybind_cpa.evalCPA.__doc__)"
   ]
  },
  {
   "cell_type": "markdown",
   "id": "6960681c",
   "metadata": {},
   "source": [
    "### CPAEngine - evalTimeCPA\n",
    "evalTimeCPA(arg0, arg1, arg2): \n",
    "* arg0&lt;float&gt;: osh, Given Ownship Course (degrees: 0-359)\n",
    "* arg1&lt;float&gt;: osv, Given Ownship Speed (Unit: knots per hour)\n",
    "* arg2&lt;float&gt;: ostol, Given Ownship Time-on-leg\n",
    "* return: Time of Closest-Point-of-Approach (CPA)"
   ]
  },
  {
   "cell_type": "code",
   "execution_count": null,
   "id": "8342f26d",
   "metadata": {},
   "outputs": [
    {
     "data": {
      "text/plain": [
       "0.04866891432692041"
      ]
     },
     "execution_count": null,
     "metadata": {},
     "output_type": "execute_result"
    }
   ],
   "source": [
    "pybind_cpa.evalTimeCPA(30, 7, 24)"
   ]
  },
  {
   "cell_type": "code",
   "execution_count": null,
   "id": "70da9c00",
   "metadata": {},
   "outputs": [
    {
     "name": "stdout",
     "output_type": "stream",
     "text": [
      "evalTimeCPA(self: pyivp.CPAEngine, arg0: float, arg1: float, arg2: float) -> float\n",
      "\n",
      "evalTimeCPA(arg0, arg1, arg2): \n",
      "Args: \n",
      "  arg0 <float>: osh, Given Ownship Course (degrees: 0-359) \n",
      "  arg1 <float>: osv, Given Ownship Speed (Unit: knots per hour) \n",
      "  arg2 <float>: ostol, Given Ownship Time-on-leg \n",
      "return: Time of Closest-Point-of-Approach (CPA)\n",
      "\n"
     ]
    }
   ],
   "source": [
    "print(pybind_cpa.evalTimeCPA.__doc__)"
   ]
  },
  {
   "cell_type": "markdown",
   "id": "b5ee1a57",
   "metadata": {},
   "source": [
    "### CPAEngine - evalROC\n",
    "evalROC(arg0, arg1): \n",
    "* arg0&lt;float&gt;: osh, Given Ownship Course (degrees: 0-359)\n",
    "* arg1&lt;float&gt;: osv, Given Ownship Speed (Unit: knots per hour)\n",
    "* return: rate-of-closure for a given heading speed"
   ]
  },
  {
   "cell_type": "code",
   "execution_count": null,
   "id": "63c19f8f",
   "metadata": {},
   "outputs": [
    {
     "data": {
      "text/plain": [
       "0.7481640918227548"
      ]
     },
     "execution_count": null,
     "metadata": {},
     "output_type": "execute_result"
    }
   ],
   "source": [
    "pybind_cpa.evalROC(30, 7)"
   ]
  },
  {
   "cell_type": "code",
   "execution_count": null,
   "id": "675323d4",
   "metadata": {},
   "outputs": [
    {
     "name": "stdout",
     "output_type": "stream",
     "text": [
      "evalROC(self: pyivp.CPAEngine, arg0: float, arg1: float) -> float\n",
      "\n",
      "evalROC(arg0, arg1): \n",
      "Args: \n",
      "  arg0 <float>: osh, Given Ownship Course (degrees: 0-359) \n",
      "  arg1 <float>: osv, Given Ownship Speed (Unit: knots per hour) \n",
      "return: rate-of-closure for a given heading speed\n",
      "\n"
     ]
    }
   ],
   "source": [
    "print(pybind_cpa.evalROC.__doc__)"
   ]
  },
  {
   "cell_type": "markdown",
   "id": "59856442",
   "metadata": {},
   "source": [
    "### CPAEngine - crossesStern\n",
    "crossesStern(arg0, arg1): \n",
    "* arg0&lt;float&gt;: osh, Given Ownship Course (degrees: 0-359)\n",
    "* arg1&lt;float&gt;: osv, Given Ownship Speed (Unit: knots per hour)\n",
    "* return: Determine if for the given ownship course and speed whether it is on a path to cross the path of the contact on its stern."
   ]
  },
  {
   "cell_type": "code",
   "execution_count": null,
   "id": "dfe84cd9",
   "metadata": {},
   "outputs": [
    {
     "data": {
      "text/plain": [
       "True"
      ]
     },
     "execution_count": null,
     "metadata": {},
     "output_type": "execute_result"
    }
   ],
   "source": [
    "pybind_cpa.crossesStern(30, 2)"
   ]
  },
  {
   "cell_type": "code",
   "execution_count": null,
   "id": "c7eee7be",
   "metadata": {},
   "outputs": [
    {
     "name": "stdout",
     "output_type": "stream",
     "text": [
      "crossesStern(self: pyivp.CPAEngine, arg0: float, arg1: float) -> bool\n",
      "\n",
      "crossesStern(arg0, arg1): \n",
      "Args: \n",
      "  arg0 <float>: osh, Given Ownship Course (degrees: 0-359) \n",
      "  arg1 <float>: osv, Given Ownship Speed (Unit: knots per hour)\n",
      "return: Determine if for the given ownship course and speed whether it is on a path to cross the path of the contact on its stern\n",
      "\n"
     ]
    }
   ],
   "source": [
    "print(pybind_cpa.crossesStern.__doc__)"
   ]
  },
  {
   "cell_type": "markdown",
   "id": "7c2dc7bb",
   "metadata": {},
   "source": [
    "### CPAEngine - crossesSternDist\n",
    "crossesSternDist(arg0, arg1): \n",
    "* arg0&lt;float&gt;: osh, Given Ownship Course (degrees: 0-359)\n",
    "* arg1&lt;float&gt;: osv, Given Ownship Speed (Unit: knots per hour)\n",
    "* return: Determine if for the given ownship course and speed whether it is on a path to cross the path of the contact on its stern. And if so, at what distance when it crosses?"
   ]
  },
  {
   "cell_type": "code",
   "execution_count": null,
   "id": "944caf40",
   "metadata": {},
   "outputs": [
    {
     "data": {
      "text/plain": [
       "0.8959226585821285"
      ]
     },
     "execution_count": null,
     "metadata": {},
     "output_type": "execute_result"
    }
   ],
   "source": [
    "pybind_cpa.crossesSternDist(30, 2)"
   ]
  },
  {
   "cell_type": "code",
   "execution_count": null,
   "id": "5b870166",
   "metadata": {},
   "outputs": [
    {
     "name": "stdout",
     "output_type": "stream",
     "text": [
      "crossesSternDist(self: pyivp.CPAEngine, arg0: float, arg1: float) -> float\n",
      "\n",
      "crossesSternDist(arg0, arg1): \n",
      "Args: \n",
      "  arg0 <float>: osh, Given Ownship Course (degrees: 0-359) \n",
      "  arg1 <float>: osv, Given Ownship Speed (Unit: knots per hour) \n",
      "return: Determine if for the given ownship course and speed whether it is on a path to cross the path of the contact on its stern. And if so, at what distance when it crosses?\n",
      "\n"
     ]
    }
   ],
   "source": [
    "print(pybind_cpa.crossesSternDist.__doc__)"
   ]
  },
  {
   "cell_type": "markdown",
   "id": "3468a901",
   "metadata": {},
   "source": [
    "### CPAEngine - crossesBow\n",
    "crossesBow(arg0, arg1): \n",
    "* arg0&lt;float&gt;: osCRS, Given Ownship Coordinate Reference System  (degrees: 0-359)\n",
    "* arg1&lt;float&gt;: osSPD, Given Ownship Speed (Unit: knots per hour)\n",
    "* return:  Determine if for the given ownship course and speed whether it is on a path to cross the path of the contact on its bow."
   ]
  },
  {
   "cell_type": "code",
   "execution_count": null,
   "id": "7ed8ae7a",
   "metadata": {},
   "outputs": [
    {
     "data": {
      "text/plain": [
       "True"
      ]
     },
     "execution_count": null,
     "metadata": {},
     "output_type": "execute_result"
    }
   ],
   "source": [
    "pybind_cpa.crossesBow(30, 5)"
   ]
  },
  {
   "cell_type": "code",
   "execution_count": null,
   "id": "6487bae5",
   "metadata": {},
   "outputs": [
    {
     "name": "stdout",
     "output_type": "stream",
     "text": [
      "crossesBow(self: pyivp.CPAEngine, arg0: float, arg1: float) -> bool\n",
      "\n",
      "crossesBow(arg0, arg1): \n",
      "Args: \n",
      "  arg0 <float>: osCRS, Given Ownship Coordinate Reference System (degrees: 0-359) \n",
      "  arg1 <float>: osSPD, Given Ownship Speed (Unit: knots per hour) \n",
      "return: Determine if for the given ownship course and speed whether it is on a path to cross the path of the contact on its bow\n",
      "\n"
     ]
    }
   ],
   "source": [
    "print(pybind_cpa.crossesBow.__doc__)"
   ]
  },
  {
   "cell_type": "markdown",
   "id": "baabe846",
   "metadata": {},
   "source": [
    "### CPAEngine - crossesBowDist\n",
    "crossesBowDist(arg0, arg1): \n",
    "* arg0&lt;float&gt;: osh, Given Ownship Course (degrees: 0-359)\n",
    "* arg1&lt;float&gt;: osv, Given Ownship Speed (Unit: knots per hour)\n",
    "* return:  Determine if for the given ownship course and speed whether it is on a path to cross the path of the contact on its bow. And if so, at what distance when it crosses?"
   ]
  },
  {
   "cell_type": "code",
   "execution_count": null,
   "id": "91a2f945",
   "metadata": {},
   "outputs": [
    {
     "data": {
      "text/plain": [
       "0.18151125674575103"
      ]
     },
     "execution_count": null,
     "metadata": {},
     "output_type": "execute_result"
    }
   ],
   "source": [
    "pybind_cpa.crossesBowDist(30, 5)"
   ]
  },
  {
   "cell_type": "code",
   "execution_count": null,
   "id": "ed0affcc",
   "metadata": {},
   "outputs": [
    {
     "name": "stdout",
     "output_type": "stream",
     "text": [
      "crossesBowDist(self: pyivp.CPAEngine, arg0: float, arg1: float) -> float\n",
      "\n",
      "crossesBowDist(arg0, arg1): \n",
      "Args: \n",
      "  arg0 <float>: osh, Given Ownship Course (degrees: 0-359) \n",
      "  arg1 <float>: osv, Given Ownship Speed (Unit: knots per hour) \n",
      "return: Determine if for the given ownship course and speed whether it is on a path to cross the path of the contact on its bow. And if so, at what distance when it crosses?\n",
      "\n"
     ]
    }
   ],
   "source": [
    "print(pybind_cpa.crossesBowDist.__doc__)"
   ]
  },
  {
   "cell_type": "markdown",
   "id": "3dd8ba38",
   "metadata": {},
   "source": [
    "### CPAEngine - crossesBowOrStern\n",
    "crossesBowOrStern(arg0, arg1): \n",
    "* arg0&lt;float&gt;: osCRS, Given Ownship Coordinate Reference System  (degrees: 0-359)\n",
    "* arg1&lt;float&gt;: osSPD, Given Ownship Speed (Unit: knots per hour)\n",
    "* return:  Determine if for the given ownship course and speed whether it is on a path to cross the path of the contact on its stern or bow."
   ]
  },
  {
   "cell_type": "code",
   "execution_count": null,
   "id": "7f876213",
   "metadata": {},
   "outputs": [
    {
     "data": {
      "text/plain": [
       "True"
      ]
     },
     "execution_count": null,
     "metadata": {},
     "output_type": "execute_result"
    }
   ],
   "source": [
    "pybind_cpa.crossesBowOrStern(30, 5)"
   ]
  },
  {
   "cell_type": "code",
   "execution_count": null,
   "id": "e173412c",
   "metadata": {},
   "outputs": [
    {
     "name": "stdout",
     "output_type": "stream",
     "text": [
      "crossesBowOrStern(self: pyivp.CPAEngine, arg0: float, arg1: float) -> bool\n",
      "\n",
      "crossesBowOrStern(arg0, arg1): \n",
      "Args: \n",
      "  arg0 <float>: osCRS, Given Ownship Coordinate Reference System (degrees: 0-359) \n",
      "  arg1 <float>: osSPD, Given Ownship Speed (Unit: knots per hour) \n",
      "return: Determine if for the given ownship course and speed whether it is on a path to cross the path of the contact on its stern or bow\n",
      "\n"
     ]
    }
   ],
   "source": [
    "print(pybind_cpa.crossesBowOrStern.__doc__)"
   ]
  },
  {
   "cell_type": "markdown",
   "id": "b0450a03",
   "metadata": {},
   "source": [
    "### CPAEngine - passesPort\n",
    "passesPort(arg0, arg1): \n",
    "* arg0&lt;float&gt;: osh, Given Ownship Course (degrees: 0-359)\n",
    "* arg1&lt;float&gt;: osv, Given Ownship Speed (Unit: knots per hour)\n",
    "* return:  Determine if for the given ownship course and speed whether it will pass the contact on the contact's port side. A \"pass\" means it will cross the contact's beam, the line perpendicular to the contact's bow-stern line."
   ]
  },
  {
   "cell_type": "code",
   "execution_count": null,
   "id": "db3bf045",
   "metadata": {},
   "outputs": [
    {
     "data": {
      "text/plain": [
       "True"
      ]
     },
     "execution_count": null,
     "metadata": {},
     "output_type": "execute_result"
    }
   ],
   "source": [
    "pybind_cpa.passesPort(30, 5)"
   ]
  },
  {
   "cell_type": "code",
   "execution_count": null,
   "id": "d305da2c",
   "metadata": {},
   "outputs": [
    {
     "name": "stdout",
     "output_type": "stream",
     "text": [
      "passesPort(self: pyivp.CPAEngine, arg0: float, arg1: float) -> bool\n",
      "\n",
      "passesPort(arg0, arg1): \n",
      "Args: \n",
      "  arg0 <float>: osh, Given Ownship Course (degrees: 0-359) \n",
      "  arg1 <float>: osv, Given Ownship Speed (Unit: knots per hour) \n",
      "return: Determine if for the given ownship course and speed whether it will pass the contact on the contact's port side. A pass means it will cross the contact's beam, the line perpendicular to the contact's bow-stern line\n",
      "\n"
     ]
    }
   ],
   "source": [
    "print(pybind_cpa.passesPort.__doc__)"
   ]
  },
  {
   "cell_type": "markdown",
   "id": "6574fb4d",
   "metadata": {},
   "source": [
    "### CPAEngine - passesPortDist\n",
    "passesPortDist(arg0, arg1): \n",
    "* arg0&lt;float&gt;: osh, Given Ownship Course (degrees: 0-359)\n",
    "* arg1&lt;float&gt;: osv, Given Ownship Speed (Unit: knots per hour)\n",
    "* return:  Determine if for the given ownship course and speed whether it is on a path to cross the path of the contact on its port. And if so, at what distance when it crosses?"
   ]
  },
  {
   "cell_type": "code",
   "execution_count": null,
   "id": "b4000d40",
   "metadata": {},
   "outputs": [
    {
     "data": {
      "text/plain": [
       "0.2384892285221384"
      ]
     },
     "execution_count": null,
     "metadata": {},
     "output_type": "execute_result"
    }
   ],
   "source": [
    "pybind_cpa.passesPortDist(30, 5)"
   ]
  },
  {
   "cell_type": "code",
   "execution_count": null,
   "id": "ada63c87",
   "metadata": {},
   "outputs": [
    {
     "name": "stdout",
     "output_type": "stream",
     "text": [
      "passesPortDist(self: pyivp.CPAEngine, arg0: float, arg1: float) -> float\n",
      "\n",
      "passesPortDist(arg0, arg1): \n",
      "Args: \n",
      "  arg0 <float>: osh, Given Ownship Course (degrees: 0-359) \n",
      "  arg1 <float>: osv, Given Ownship Speed (Unit: knots per hour) \n",
      "return: Determine if for the given ownship course and speed whether it is on a path to cross the path of the contact on its port. And if so, at what distance when it crosses?\n",
      "\n"
     ]
    }
   ],
   "source": [
    "print(pybind_cpa.passesPortDist.__doc__)"
   ]
  },
  {
   "cell_type": "markdown",
   "id": "c04f1525",
   "metadata": {},
   "source": [
    "### CPAEngine - passesStar\n",
    "passesStar(arg0, arg1): \n",
    "* arg0&lt;float&gt;: osh, Given Ownship Course (degrees: 0-359)\n",
    "* arg1&lt;float&gt;: osv, Given Ownship Speed (Unit: knots per hour)\n",
    "* return:  Determine if for the given ownship course and speed whether it will pass the contact on the contact's star side. A \"pass\" means it will cross the contact's beam, the line perpendicular to the contact's bow-stern line."
   ]
  },
  {
   "cell_type": "code",
   "execution_count": null,
   "id": "eba5063b",
   "metadata": {},
   "outputs": [
    {
     "data": {
      "text/plain": [
       "True"
      ]
     },
     "execution_count": null,
     "metadata": {},
     "output_type": "execute_result"
    }
   ],
   "source": [
    "pybind_cpa.passesStar(270, 5)"
   ]
  },
  {
   "cell_type": "code",
   "execution_count": null,
   "id": "32a0f1f0",
   "metadata": {},
   "outputs": [
    {
     "name": "stdout",
     "output_type": "stream",
     "text": [
      "passesStar(self: pyivp.CPAEngine, arg0: float, arg1: float) -> bool\n",
      "\n",
      "passesStar(arg0, arg1): \n",
      "Args: \n",
      "  arg0 <float>: osh, Given Ownship Course (degrees: 0-359) \n",
      "  arg1 <float>: osv, Given Ownship Speed (Unit: knots per hour) \n",
      "return: Determine if for the given ownship course and speed whether it will pass the contact on the contact's star side. A pass means it will cross the contact's beam, the line perpendicular to the contact's bow-stern line\n",
      "\n"
     ]
    }
   ],
   "source": [
    "print(pybind_cpa.passesStar.__doc__)"
   ]
  },
  {
   "cell_type": "markdown",
   "id": "ccca8544",
   "metadata": {},
   "source": [
    "### CPAEngine - passesStarDist\n",
    "passesStarDist(arg0, arg1): \n",
    "* arg0&lt;float&gt;: osh, Given Ownship Course (degrees: 0-359)\n",
    "* arg1&lt;float&gt;: osv, Given Ownship Speed (Unit: knots per hour)\n",
    "* return:  Determine if for the given ownship course and speed whether it is on a path to cross the path of the contact on its star. And if so, at what distance when it crosses?"
   ]
  },
  {
   "cell_type": "code",
   "execution_count": null,
   "id": "7f881da1",
   "metadata": {},
   "outputs": [
    {
     "data": {
      "text/plain": [
       "0.09443804898671398"
      ]
     },
     "execution_count": null,
     "metadata": {},
     "output_type": "execute_result"
    }
   ],
   "source": [
    "pybind_cpa.passesStarDist(270, 5)"
   ]
  },
  {
   "cell_type": "code",
   "execution_count": null,
   "id": "ae8b58c2",
   "metadata": {},
   "outputs": [
    {
     "name": "stdout",
     "output_type": "stream",
     "text": [
      "passesStarDist(self: pyivp.CPAEngine, arg0: float, arg1: float) -> float\n",
      "\n",
      "passesStarDist(arg0, arg1): \n",
      "Args: \n",
      "  arg0 <float>: osh, Given Ownship Course (degrees: 0-359) \n",
      "  arg1 <float>: osv, Given Ownship Speed (Unit: knots per hour) \n",
      "return: Determine if for the given ownship course and speed whether it is on a path to cross the path of the contact on its star. And if so, at what distance when it crosses?\n",
      "\n"
     ]
    }
   ],
   "source": [
    "print(pybind_cpa.passesStarDist.__doc__)"
   ]
  },
  {
   "cell_type": "markdown",
   "id": "1f0d7a93",
   "metadata": {},
   "source": [
    "### CPAEngine - passesPortOrStar\n",
    "passesPortOrStar(arg0, arg1): \n",
    "* arg0&lt;float&gt;: osCRS, Given Ownship Coordinate Reference System  (degrees: 0-359)\n",
    "* arg1&lt;float&gt;: osSPD, Given Ownship Speed (Unit: knots per hour)\n",
    "* return:  Determine if for the given ownship course and speed whether it will pass the contact."
   ]
  },
  {
   "cell_type": "code",
   "execution_count": null,
   "id": "e2585f69",
   "metadata": {},
   "outputs": [
    {
     "data": {
      "text/plain": [
       "True"
      ]
     },
     "execution_count": null,
     "metadata": {},
     "output_type": "execute_result"
    }
   ],
   "source": [
    "pybind_cpa.passesPortOrStar(270, 5)"
   ]
  },
  {
   "cell_type": "code",
   "execution_count": null,
   "id": "6ddcbfe7",
   "metadata": {},
   "outputs": [
    {
     "name": "stdout",
     "output_type": "stream",
     "text": [
      "passesPortOrStar(self: pyivp.CPAEngine, arg0: float, arg1: float) -> bool\n",
      "\n",
      "passesPortOrStar(arg0, arg1): \n",
      "Args: \n",
      "  arg0 <float>: osCRS, Given Ownship Coordinate Reference System  (degrees: 0-359) \n",
      "  arg1 <float>: osSPD, Given Ownship Speed (Unit: knots per hour) \n",
      "return: Determine if for the given ownship course and speed whether it will pass the contact\n",
      "\n"
     ]
    }
   ],
   "source": [
    "print(pybind_cpa.passesPortOrStar.__doc__)"
   ]
  },
  {
   "cell_type": "markdown",
   "id": "aa77b540",
   "metadata": {},
   "source": [
    "### CPAEngine - turnsRight\n",
    "turnsRight(arg0, arg1): \n",
    "* arg0&lt;float&gt;: present_heading, Given Ownship present heading (degrees: 0-359)\n",
    "* arg1&lt;float&gt;: heading, Given Ownship desired heading (degrees: 0-359)\n",
    "* return:  Determine if present ownship heading, whether or not the proposed heading represent a righthand turn (starboard)."
   ]
  },
  {
   "cell_type": "code",
   "execution_count": null,
   "id": "dfd022b6",
   "metadata": {},
   "outputs": [
    {
     "data": {
      "text/plain": [
       "True"
      ]
     },
     "execution_count": null,
     "metadata": {},
     "output_type": "execute_result"
    }
   ],
   "source": [
    "pybind_cpa.turnsRight(45, 90)"
   ]
  },
  {
   "cell_type": "code",
   "execution_count": null,
   "id": "5cf0abee",
   "metadata": {},
   "outputs": [
    {
     "name": "stdout",
     "output_type": "stream",
     "text": [
      "turnsRight(self: pyivp.CPAEngine, arg0: float, arg1: float) -> bool\n",
      "\n",
      "turnsRight(arg0, arg1): \n",
      "Args: \n",
      "  arg0 <float>: present_heading, Given Ownship present heading (degrees: 0-359) \n",
      "  arg1 <float>: heading, Given Ownship desired heading (degrees: 0-359) \n",
      "Determine if present ownship heading, whether or not the proposed heading represent a righthand turn (starboard)\n",
      "\n"
     ]
    }
   ],
   "source": [
    "print(pybind_cpa.turnsRight.__doc__)"
   ]
  },
  {
   "cell_type": "markdown",
   "id": "d5d6b93f",
   "metadata": {},
   "source": [
    "### CPAEngine - turnsLeft\n",
    "turnsLeft(arg0, arg1): \n",
    "* arg0&lt;float&gt;: present_heading, Given Ownship present heading (degrees: 0-359)\n",
    "* arg1&lt;float&gt;: heading, Given Ownship desired heading (degrees: 0-359)\n",
    "* return:  Determine if present ownship heading, whether or not the proposed heading represent a lefthand turn (port)."
   ]
  },
  {
   "cell_type": "code",
   "execution_count": null,
   "id": "ca798ca8",
   "metadata": {},
   "outputs": [
    {
     "data": {
      "text/plain": [
       "True"
      ]
     },
     "execution_count": null,
     "metadata": {},
     "output_type": "execute_result"
    }
   ],
   "source": [
    "pybind_cpa.turnsLeft(90, 45)"
   ]
  },
  {
   "cell_type": "code",
   "execution_count": null,
   "id": "2a7627d9",
   "metadata": {},
   "outputs": [
    {
     "name": "stdout",
     "output_type": "stream",
     "text": [
      "turnsLeft(self: pyivp.CPAEngine, arg0: float, arg1: float) -> bool\n",
      "\n",
      "turnsLeft(arg0, arg1): \n",
      "Args: \n",
      "  arg0 <float>: present_heading, Given Ownship present heading (degrees: 0-359) \n",
      "  arg1 <float>: heading, Given Ownship desired heading (degrees: 0-359) \n",
      "Determine if present ownship heading, whether or not the proposed heading represent a lefthand turn (port)\n",
      "\n"
     ]
    }
   ],
   "source": [
    "print(pybind_cpa.turnsLeft.__doc__)"
   ]
  },
  {
   "cell_type": "markdown",
   "id": "1608e3d4",
   "metadata": {},
   "source": [
    "### CPAEngine - bearingRate\n",
    "bearingRate(arg0, arg1): \n",
    "* arg0&lt;float&gt;: osh, Given Ownship Course (degrees: 0-359)\n",
    "* arg1&lt;float&gt;: osv, Given Ownship Speed (Unit: knots per hour)\n",
    "* return:  Calculate the bearing rate from the speed at tangent, where range is the current range between vehicles."
   ]
  },
  {
   "cell_type": "code",
   "execution_count": null,
   "id": "ea892815",
   "metadata": {},
   "outputs": [
    {
     "data": {
      "text/plain": [
       "150.67244548620943"
      ]
     },
     "execution_count": null,
     "metadata": {},
     "output_type": "execute_result"
    }
   ],
   "source": [
    "pybind_cpa.bearingRate(50, 4)"
   ]
  },
  {
   "cell_type": "code",
   "execution_count": null,
   "id": "afe549df",
   "metadata": {},
   "outputs": [
    {
     "name": "stdout",
     "output_type": "stream",
     "text": [
      "bearingRate(self: pyivp.CPAEngine, arg0: float, arg1: float) -> float\n",
      "\n",
      "bearingRate(arg0, arg1): \n",
      "Args: \n",
      "  arg0 <float>: osh, Given Ownship Course (degrees: 0-359) \n",
      "  arg1 <float>: osv, Given Ownship Speed (Unit: knots per hour) \n",
      "return: Calculate the bearing rate from the speed at tangent, where range is the current range between vehicles\n",
      "\n"
     ]
    }
   ],
   "source": [
    "print(pybind_cpa.bearingRate.__doc__)"
   ]
  },
  {
   "cell_type": "markdown",
   "id": "1c2dea00",
   "metadata": {},
   "source": [
    "function: bearingRateOld(osh, osv) has same ability"
   ]
  },
  {
   "cell_type": "code",
   "execution_count": null,
   "id": "97764a8b",
   "metadata": {},
   "outputs": [
    {
     "data": {
      "text/plain": [
       "150.67244548626076"
      ]
     },
     "execution_count": null,
     "metadata": {},
     "output_type": "execute_result"
    }
   ],
   "source": [
    "pybind_cpa.bearingRateOld(50, 4)"
   ]
  },
  {
   "cell_type": "code",
   "execution_count": null,
   "id": "af9956be",
   "metadata": {},
   "outputs": [
    {
     "name": "stdout",
     "output_type": "stream",
     "text": [
      "bearingRateOld(self: pyivp.CPAEngine, arg0: float, arg1: float) -> float\n",
      "\n",
      "bearingRateOld(arg0, arg1): \n",
      "Args: \n",
      "  arg0 <float>: osh, Given Ownship Course (degrees: 0-359) \n",
      "  arg1 <float>: osv, Given Ownship Speed (Unit: knots per hour) \n",
      "return: Calculate the bearing rate from the speed at tangent, where range is the current range between vehicles\n",
      "\n"
     ]
    }
   ],
   "source": [
    "print(pybind_cpa.bearingRateOld.__doc__)"
   ]
  },
  {
   "cell_type": "markdown",
   "id": "84aef1d6",
   "metadata": {},
   "source": [
    "### CPAEngine - ownshipContactRelBearing\n",
    "ownshipContactRelBearing(arg0): \n",
    "* arg0&lt;float&gt;: osh, Given Ownship Course (degrees: 0-359)\n",
    "* return:  Calculate the contact angle related to bearing."
   ]
  },
  {
   "cell_type": "code",
   "execution_count": null,
   "id": "3edb0ee6",
   "metadata": {},
   "outputs": [
    {
     "data": {
      "text/plain": [
       "221.25383773744448"
      ]
     },
     "execution_count": null,
     "metadata": {},
     "output_type": "execute_result"
    }
   ],
   "source": [
    "pybind_cpa.ownshipContactRelBearing(40)"
   ]
  },
  {
   "cell_type": "code",
   "execution_count": null,
   "id": "e5a9febf",
   "metadata": {},
   "outputs": [
    {
     "name": "stdout",
     "output_type": "stream",
     "text": [
      "ownshipContactRelBearing(self: pyivp.CPAEngine, arg0: float) -> float\n",
      "\n",
      "ownshipContactRelBearing(arg0): \n",
      "Args: \n",
      "  arg0 <float>: osh, Given Ownship Course (degrees: 0-359) \n",
      "return: Calculate the contact angle related to bearing\n",
      "\n"
     ]
    }
   ],
   "source": [
    "print(pybind_cpa.ownshipContactRelBearing.__doc__)"
   ]
  },
  {
   "cell_type": "markdown",
   "id": "91955663",
   "metadata": {},
   "source": [
    "### CPAEngine - getOSSpeedInCNHeading\n",
    "getOSSpeedInCNHeading(arg0, arg1): \n",
    "* arg0&lt;float&gt;: osh, Given Ownship Course (degrees: 0-359)\n",
    "* arg1&lt;float&gt;: osv, Given Ownship Speed (Unit: knots per hour)\n",
    "* return:  Calculate Ownship's speed from contact heading."
   ]
  },
  {
   "cell_type": "code",
   "execution_count": null,
   "id": "1c5774da",
   "metadata": {},
   "outputs": [
    {
     "data": {
      "text/plain": [
       "4.92403876506103"
      ]
     },
     "execution_count": null,
     "metadata": {},
     "output_type": "execute_result"
    }
   ],
   "source": [
    "pybind_cpa.getOSSpeedInCNHeading(40, 5)"
   ]
  },
  {
   "cell_type": "code",
   "execution_count": null,
   "id": "08413a45",
   "metadata": {},
   "outputs": [
    {
     "name": "stdout",
     "output_type": "stream",
     "text": [
      "getOSSpeedInCNHeading(self: pyivp.CPAEngine, arg0: float, arg1: float) -> float\n",
      "\n",
      "getOSSpeedInCNHeading(arg0, arg1): \n",
      "Args: \n",
      "  arg0 <float>: osh, Given Ownship Course (degrees: 0-359) \n",
      "  arg1 <float>: osv, Given Ownship Speed (Unit: knots per hour) \n",
      "return: Calculate Ownship's speed from contact heading\n",
      "\n"
     ]
    }
   ],
   "source": [
    "print(pybind_cpa.getOSSpeedInCNHeading.__doc__)"
   ]
  },
  {
   "cell_type": "markdown",
   "id": "3d805034",
   "metadata": {},
   "source": [
    "### CPAEngine - getOSSpeedGamma\n",
    "getOSSpeedGamma(arg0, arg1): \n",
    "* arg0&lt;float&gt;: osh, Given Ownship Course (degrees: 0-359)\n",
    "* arg1&lt;float&gt;: osv, Given Ownship Speed (Unit: knots per hour)\n",
    "* return:  Calculate Ownship's speed in direction perpendicular to contact."
   ]
  },
  {
   "cell_type": "code",
   "execution_count": null,
   "id": "f1e1789b",
   "metadata": {},
   "outputs": [
    {
     "data": {
      "text/plain": [
       "0.8682408883341995"
      ]
     },
     "execution_count": null,
     "metadata": {},
     "output_type": "execute_result"
    }
   ],
   "source": [
    "pybind_cpa.getOSSpeedGamma(40, 5)"
   ]
  },
  {
   "cell_type": "code",
   "execution_count": null,
   "id": "7f06a77d",
   "metadata": {},
   "outputs": [
    {
     "name": "stdout",
     "output_type": "stream",
     "text": [
      "getOSSpeedGamma(self: pyivp.CPAEngine, arg0: float, arg1: float) -> float\n",
      "\n",
      "getOSSpeedGamma(arg0, arg1): \n",
      "Args: \n",
      "  arg0 <float>: osh, Given Ownship Course (degrees: 0-359) \n",
      "  arg1 <float>: osv, Given Ownship Speed (Unit: knots per hour) \n",
      "return: Calculate Ownship's speed in direction perpendicular to contact\n",
      "\n"
     ]
    }
   ],
   "source": [
    "print(pybind_cpa.getOSSpeedGamma.__doc__)"
   ]
  },
  {
   "cell_type": "markdown",
   "id": "e842cfd4",
   "metadata": {},
   "source": [
    "### CPAEngine - getOSSpeedEpsilon\n",
    "getOSSpeedEpsilon(arg0, arg1): \n",
    "* arg0&lt;float&gt;: osh, Given Ownship Course (degrees: 0-359)\n",
    "* arg1&lt;float&gt;: osv, Given Ownship Speed (Unit: knots per hour)\n",
    "* return:  Calculate Ownship's speed in direction of the contact beam."
   ]
  },
  {
   "cell_type": "code",
   "execution_count": null,
   "id": "ffcc4d6c",
   "metadata": {},
   "outputs": [
    {
     "data": {
      "text/plain": [
       "1.07596123493897"
      ]
     },
     "execution_count": null,
     "metadata": {},
     "output_type": "execute_result"
    }
   ],
   "source": [
    "pybind_cpa.getOSSpeedEpsilon(40, 5)"
   ]
  },
  {
   "cell_type": "code",
   "execution_count": null,
   "id": "f1b2871b",
   "metadata": {},
   "outputs": [
    {
     "name": "stdout",
     "output_type": "stream",
     "text": [
      "getOSSpeedEpsilon(self: pyivp.CPAEngine, arg0: float, arg1: float) -> float\n",
      "\n",
      "getOSSpeedEpsilon(arg0, arg1): \n",
      "Args: \n",
      "  arg0 <float>: osh, Given Ownship Course (degrees: 0-359) \n",
      "  arg1 <float>: osv, Given Ownship Speed (Unit: knots per hour) \n",
      "return: Calculate Ownship's speed in direction of the contact beam\n",
      "\n"
     ]
    }
   ],
   "source": [
    "print(pybind_cpa.getOSSpeedEpsilon.__doc__)"
   ]
  },
  {
   "cell_type": "markdown",
   "id": "9f18d24f",
   "metadata": {},
   "source": [
    "### CPAEngine - getOSTimeGamma\n",
    "getOSTimeGamma(arg0, arg1): \n",
    "* arg0&lt;float&gt;: osh, Given Ownship Course (degrees: 0-359)\n",
    "* arg1&lt;float&gt;: osv, Given Ownship Speed (Unit: knots per hour)\n",
    "* return:  Calculate Ownship's time gamma."
   ]
  },
  {
   "cell_type": "code",
   "execution_count": null,
   "id": "a66f9652",
   "metadata": {},
   "outputs": [
    {
     "data": {
      "text/plain": [
       "0.23579228292744728"
      ]
     },
     "execution_count": null,
     "metadata": {},
     "output_type": "execute_result"
    }
   ],
   "source": [
    "pybind_cpa.getOSTimeGamma(40, 5)"
   ]
  },
  {
   "cell_type": "code",
   "execution_count": null,
   "id": "4ad513f1",
   "metadata": {},
   "outputs": [
    {
     "name": "stdout",
     "output_type": "stream",
     "text": [
      "getOSTimeGamma(self: pyivp.CPAEngine, arg0: float, arg1: float) -> float\n",
      "\n",
      "getOSTimeGamma(arg0, arg1): \n",
      "Args: \n",
      "  arg0 <float>: osh, Given Ownship Course (degrees: 0-359) \n",
      "  arg1 <float>: osv, Given Ownship Speed (Unit: knots per hour) \n",
      "return: Calculate Ownship's time gamma.\n",
      "\n"
     ]
    }
   ],
   "source": [
    "print(pybind_cpa.getOSTimeGamma.__doc__)"
   ]
  },
  {
   "cell_type": "markdown",
   "id": "2267caf7",
   "metadata": {},
   "source": [
    "### CPAEngine - getOSTimeEpsilon\n",
    "getOSTimeEpsilon(arg0, arg1): \n",
    "* arg0&lt;float&gt;: osh, Given Ownship Course (degrees: 0-359)\n",
    "* arg1&lt;float&gt;: osv, Given Ownship Speed (Unit: knots per hour)\n",
    "* return:  Calculate Ownship's time epsilon."
   ]
  },
  {
   "cell_type": "code",
   "execution_count": null,
   "id": "79f27edb",
   "metadata": {},
   "outputs": [
    {
     "data": {
      "text/plain": [
       "0.313509983859109"
      ]
     },
     "execution_count": null,
     "metadata": {},
     "output_type": "execute_result"
    }
   ],
   "source": [
    "pybind_cpa.getOSTimeEpsilon(40, 5)"
   ]
  },
  {
   "cell_type": "code",
   "execution_count": null,
   "id": "03a97d49",
   "metadata": {},
   "outputs": [
    {
     "name": "stdout",
     "output_type": "stream",
     "text": [
      "getOSTimeEpsilon(self: pyivp.CPAEngine, arg0: float, arg1: float) -> float\n",
      "\n",
      "getOSTimeEpsilon(arg0, arg1): \n",
      "Args: \n",
      "  arg0 <float>: osh, Given Ownship Course (degrees: 0-359) \n",
      "  arg1 <float>: osv, Given Ownship Speed (Unit: knots per hour) \n",
      "return: Calculate Ownship's time epsilon\n",
      "\n"
     ]
    }
   ],
   "source": [
    "print(pybind_cpa.getOSTimeEpsilon.__doc__)"
   ]
  },
  {
   "cell_type": "markdown",
   "id": "df1f2c1d",
   "metadata": {},
   "source": [
    "### CPAEngine - getARange\n",
    "getARange(arg0, arg1, arg2): \n",
    "* arg0&lt;float&gt;: osh, Given Ownship Course (degrees: 0-359)\n",
    "* arg1&lt;float&gt;: osv, Given Ownship Speed (Unit: knots per hour)\n",
    "* arg2&lt;float&gt;: time, Given Ownship Speed (Unit: knots per hour)\n",
    "* return:  Calculate the range at a particular time in the future, not necessarily the time at min CPA."
   ]
  },
  {
   "cell_type": "code",
   "execution_count": null,
   "id": "838a16fa",
   "metadata": {},
   "outputs": [
    {
     "data": {
      "text/plain": [
       "77.19775524316742"
      ]
     },
     "execution_count": null,
     "metadata": {},
     "output_type": "execute_result"
    }
   ],
   "source": [
    "pybind_cpa.getARange(10, 5, 20)"
   ]
  },
  {
   "cell_type": "code",
   "execution_count": null,
   "id": "e82848b9",
   "metadata": {},
   "outputs": [
    {
     "name": "stdout",
     "output_type": "stream",
     "text": [
      "getARange(self: pyivp.CPAEngine, arg0: float, arg1: float, arg2: float) -> float\n",
      "\n",
      "getARange(arg0, arg1, arg2): \n",
      "Args: \n",
      "  arg0 <float>: osh, Given Ownship Course (degrees: 0-359) \n",
      "  arg1 <float>: osv, Given Ownship Speed (Unit: knots per hour) \n",
      "  arg2 <float>: time, Given Ownship Speed (Unit: knots per hour) \n",
      "return: Calculate the range at a particular time in the future, not necessarily the time at min CPA\n",
      "\n"
     ]
    }
   ],
   "source": [
    "print(pybind_cpa.getARange.__doc__)"
   ]
  },
  {
   "cell_type": "markdown",
   "id": "24c96ecb",
   "metadata": {},
   "source": [
    "### CPAEngine - getARangeRate\n",
    "getARangeRate(arg0, arg1, arg2): \n",
    "* arg0&lt;float&gt;: osh, Given Ownship Course (degrees: 0-359)\n",
    "* arg1&lt;float&gt;: osv, Given Ownship Speed (Unit: knots per hour)\n",
    "* arg2&lt;float&gt;: time, Given Ownship Speed (Unit: knots per hour)\n",
    "* return:  Calculate the range rate at a particular time in the future, not necessarily the time at min CPA."
   ]
  },
  {
   "cell_type": "code",
   "execution_count": null,
   "id": "91f375f7",
   "metadata": {},
   "outputs": [
    {
     "data": {
      "text/plain": [
       "598.713553986461"
      ]
     },
     "execution_count": null,
     "metadata": {},
     "output_type": "execute_result"
    }
   ],
   "source": [
    "pybind_cpa.getARangeRate(10, 5, 20)"
   ]
  },
  {
   "cell_type": "code",
   "execution_count": null,
   "id": "03957df9",
   "metadata": {},
   "outputs": [
    {
     "name": "stdout",
     "output_type": "stream",
     "text": [
      "getARangeRate(self: pyivp.CPAEngine, arg0: float, arg1: float, arg2: float) -> float\n",
      "\n",
      "getARangeRate(arg0, arg1, arg2): \n",
      "Args: \n",
      "  arg0 <float>: osh, Given Ownship Course (degrees: 0-359) \n",
      "  arg1 <float>: osv, Given Ownship Speed (Unit: knots per hour) \n",
      "  arg2 <float>: time, Given Ownship Speed (Unit: knots per hour) \n",
      "return: Calculate the range rate at a particular time in the future, not necessarily the time at min CPA\n",
      "\n"
     ]
    }
   ],
   "source": [
    "print(pybind_cpa.getARangeRate.__doc__)"
   ]
  }
 ],
 "metadata": {
  "kernelspec": {
   "display_name": "Python 3 (ipykernel)",
   "language": "python",
   "name": "python3"
  }
 },
 "nbformat": 4,
 "nbformat_minor": 5
}
