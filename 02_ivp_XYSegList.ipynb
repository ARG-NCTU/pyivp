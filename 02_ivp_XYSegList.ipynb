{
 "cells": [
  {
   "cell_type": "code",
   "execution_count": null,
   "metadata": {},
   "outputs": [],
   "source": [
    "# default_exp pyivp\n"
   ]
  },
  {
   "cell_type": "markdown",
   "metadata": {},
   "source": [
    "# pyivp.XYSegList"
   ]
  },
  {
   "cell_type": "code",
   "execution_count": null,
   "metadata": {},
   "outputs": [],
   "source": [
    "#hide\n",
    "from nbdev.showdoc import *\n"
   ]
  },
  {
   "cell_type": "markdown",
   "metadata": {},
   "source": [
    "## Compile and Install lib_pyivp (partially)"
   ]
  },
  {
   "cell_type": "code",
   "execution_count": null,
   "metadata": {},
   "outputs": [],
   "source": [
    "! cd ~/pyivp && make\n"
   ]
  },
  {
   "cell_type": "markdown",
   "metadata": {},
   "source": [
    "### Run python library in Jupyter Notebook"
   ]
  },
  {
   "cell_type": "code",
   "execution_count": null,
   "metadata": {},
   "outputs": [],
   "source": [
    "import pyivp"
   ]
  },
  {
   "cell_type": "code",
   "execution_count": null,
   "metadata": {},
   "outputs": [],
   "source": [
    "print(pyivp.__doc__)"
   ]
  },
  {
   "cell_type": "markdown",
   "metadata": {},
   "source": [
    "## XYSegList"
   ]
  },
  {
   "cell_type": "code",
   "execution_count": null,
   "metadata": {},
   "outputs": [],
   "source": [
    "py_v2 = pyivp.XYPoint(5,10)\n",
    "py_v3 = pyivp.XYSegList()"
   ]
  },
  {
   "cell_type": "code",
   "execution_count": null,
   "metadata": {},
   "outputs": [],
   "source": [
    "py_v3.add_vertex(py_v2,\"v1\")\n",
    "py_v3.add_vertex(1,1,1,\"v0\")\n",
    "py_v3.add_vertex(3,3,3,\"v3\")\n",
    "py_v3.add_vertex(4,4,4,\"v4\")\n",
    "print(\"add_result:\",py_v3.get_spec(2))\n",
    "py_v3.mod_vertex(0,0,0,0,\"v0\")\n",
    "py_v3.mod_vertex(1,1,1,1,\"v1\")\n",
    "print(\"mod_result:\",py_v3.get_spec(2))\n",
    "py_v3.alter_vertex(2,2,2,\"v2\")\n",
    "print(\"alter_result:\",py_v3.get_spec(2))\n",
    "py_v3.delete_vertex(3,3)\n",
    "print(\"delete_result:\",py_v3.get_spec(2))\n",
    "py_v3.delete_vertex(0)\n",
    "print(\"delete_result:\",py_v3.get_spec(2))\n",
    "py_v3.insert_vertex(3,3,3,\"v3\")\n",
    "print(\"insert_result:\",py_v3.get_spec(2))\n",
    "py_v3.pop_last_vertex()\n",
    "print(\"pop_last_vertex_result:\",py_v3.get_spec(2))\n",
    "py_v3.shift_horz(-1)\n",
    "print(\"shift_horz_result\",py_v3.get_spec(2))\n",
    "py_v3.shift_vert(-1)\n",
    "print(\"shift_vert_result\",py_v3.get_spec(2))"
   ]
  },
  {
   "cell_type": "code",
   "execution_count": null,
   "metadata": {},
   "outputs": [],
   "source": [
    "py_v3.grow_by_pct(1)\n",
    "print(\"grow_by_pct_result\",py_v3.get_spec(2))\n",
    "py_v3.grow_by_amt(1)\n",
    "print(\"grow_by_amt_result\",py_v3.get_spec(2))\n",
    "py_v3.apply_snap(2)\n",
    "print(\"apply_snap_result\",py_v3.get_spec(2))\n",
    "py_v3.rotate(2,0,0)\n",
    "print(\"rotate_result\",py_v3.get_spec(2))\n",
    "py_v3.rotate(3)\n",
    "print(\"rotate_result\",py_v3.get_spec(2))\n",
    "py_v3.get_avg_x()\n",
    "print(\"get_avg_x_result\",py_v3.get_spec(2))\n",
    "py_v3.get_avg_y\n",
    "print(\"get_avg_y_result\",py_v3.get_spec(2))\n",
    "\n",
    "py_v3.get_center_x\n",
    "print(\"get_center_x_result\",py_v3.get_spec(2))\n",
    "py_v3.get_center_y\n",
    "print(\"get_center_y_result\",py_v3.get_spec(2))\n",
    "\n",
    "py_v3.get_centroid_x\n",
    "print(\"get_centroid_x_result\",py_v3.get_spec(2))\n",
    "py_v3.get_centroid_y\n",
    "print(\"get_centroid_y_result\",py_v3.get_spec(2))\n",
    "\n",
    "py_v3.get_centroid_x\n",
    "print(\"get_centroid_x_result\",py_v3.get_spec(2))\n",
    "py_v3.get_centroid_y\n",
    "print(\"get_centroid_y_result\",py_v3.get_spec(2))\n",
    "\n",
    "py_v3.get_max_x\n",
    "print(\"get_max_x\",py_v3.get_spec(2))\n",
    "py_v3.get_max_y\n",
    "print(\"get_max_y_result\",py_v3.get_spec(2))\n",
    "\n",
    "py_v3.get_min_x\n",
    "print(\"get_min_x_result\",py_v3.get_spec(2))\n",
    "py_v3.get_min_y\n",
    "print(\"get_min_y_result\",py_v3.get_spec(2))\n",
    "\n",
    "py_v3.reverse()\n",
    "print(\"reverse_result\",py_v3.get_spec(2))\n",
    "\n",
    "\n",
    "py_v3.new_center(5,5)\n",
    "print(\"new_center_result\",py_v3.get_spec(2))\n",
    "py_v3.new_centroid(3,3)\n",
    "print(\"new_centroid_result\",py_v3.get_spec(2))"
   ]
  },
  {
   "cell_type": "code",
   "execution_count": null,
   "metadata": {},
   "outputs": [],
   "source": [
    "print(\"get_spec_result\",py_v3.get_spec(\"py_v3\"))\n",
    "print(\"get_spec_result\",py_v3.get_spec(4,\"py_v3\"))\n",
    "\n",
    "print(\"get_spec_pts_result\",py_v3.get_spec_pts(1))\n",
    "print(\"closest_vertex_result:\",py_v3.closest_vertex(1,3))\n",
    "print(\"length_result:\",py_v3.length())\n",
    "\n",
    "\n",
    "print(\"get_vprop_result:\",py_v3.get_vprop(1))\n",
    "print(\"dist_to_point_result:\",py_v3.dist_to_point(1,3))\n",
    "print(\"dist_to_ctr_result:\",py_v3.dist_to_ctr(3,8))\n",
    "print(\"max_dist_to_ctr_result:\",py_v3.max_dist_to_ctr())"
   ]
  },
  {
   "cell_type": "code",
   "execution_count": null,
   "metadata": {},
   "outputs": [],
   "source": [
    "print(py_v3.get_spec(2))\n",
    "print(py_v3.get_spec_pts_label(2))\n",
    "print(\"get_vx_result:\",py_v3.get_vx(1))\n",
    "print(\"get_vy_result:\",py_v3.get_vy(1))\n",
    "print(\"get_vz_result:\",py_v3.get_vz(1))\n",
    "print(\"size_result:\",py_v3.size())\n",
    "print(\"closest_segement_result:\",py_v3.closest_segment(4,5,True))\n"
   ]
  },
  {
   "cell_type": "code",
   "execution_count": null,
   "metadata": {},
   "outputs": [],
   "source": [
    "py_v4 = pyivp.XYSegList()\n",
    "print(\"valid_result:\",py_v4.valid())\n",
    "py_v4.add_vertex(3,2,0,\"v3\")\n",
    "py_v4.add_vertex(1,0,0,\"v1\")\n",
    "py_v4.add_vertex(0,0,0,\"v0\")\n",
    "py_v4.add_vertex(4,0,0,\"v4\")\n",
    "py_v4.add_vertex(4,-5,0,\"v2\")\n",
    "print(\"add_result:\",py_v4.get_spec(2))\n",
    "print(\"valid_result:\",py_v4.valid())\n",
    "print(\"size_result:\",py_v4.size())\n",
    "print(\"is_clockwixe_result:\",py_v4.is_clockwise())\n",
    "print(\"segs_cross_result:\",py_v4.segs_cross(True))\n",
    "print(py_v4.get_spec_inactive())"
   ]
  },
  {
   "cell_type": "code",
   "execution_count": null,
   "metadata": {},
   "outputs": [],
   "source": [
    "py_1=pyivp.EdgeTagSet()\n",
    "py_2=pyivp.EdgeTag(2,1,'v1')\n",
    "py_2.print()\n",
    "py_1.addEdgeTag(py_2)"
   ]
  },
  {
   "cell_type": "code",
   "execution_count": null,
   "metadata": {},
   "outputs": [],
   "source": [
    "py_v3.clear()\n",
    "py_v4.clear()\n",
    "print(\"py_v3:\",py_v3.get_spec(2))\n",
    "print(\"py_v4:\",py_v4.get_spec(2))"
   ]
  }
 ],
 "metadata": {
  "kernelspec": {
   "display_name": "Python 3 (ipykernel)",
   "language": "python",
   "name": "python3"
  },
  "language_info": {
   "codemirror_mode": {
    "name": "ipython",
    "version": 3
   },
   "file_extension": ".py",
   "mimetype": "text/x-python",
   "name": "python",
   "nbconvert_exporter": "python",
   "pygments_lexer": "ipython3",
   "version": "3.8.10"
  }
 },
 "nbformat": 4,
 "nbformat_minor": 2
}
