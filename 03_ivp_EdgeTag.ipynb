{
 "cells": [
  {
   "cell_type": "code",
   "execution_count": 1,
   "metadata": {},
   "outputs": [],
   "source": [
    "# default_exp cpplabs"
   ]
  },
  {
   "cell_type": "markdown",
   "metadata": {},
   "source": [
    "# cpplabs \n",
    "\n",
    "> API details."
   ]
  },
  {
   "cell_type": "code",
   "execution_count": 2,
   "metadata": {},
   "outputs": [],
   "source": [
    "#hide\n",
    "from nbdev.showdoc import *"
   ]
  },
  {
   "cell_type": "markdown",
   "metadata": {},
   "source": [
    "## Compile and Install lib_geometry"
   ]
  },
  {
   "cell_type": "code",
   "execution_count": 3,
   "metadata": {},
   "outputs": [
    {
     "name": "stdout",
     "output_type": "stream",
     "text": [
      "make -C src\n",
      "make[1]: Entering directory '/home/arg/pyivp/src'\n",
      "mkdir build; cd build; cmake ..; make\n",
      "mkdir: cannot create directory ‘build’: File exists\n",
      "-------------------------------------------------------Use UTM:ON\n",
      "+++++++++++++++++++++++++++++++++++++++++\n",
      "IVP_GUI_CODE will be built......         \n",
      "+++++++++++++++++++++++++++++++++++++++++\n",
      "USING UTM\n",
      "+++++++++++++++++++++++++++++++++++++++++\n",
      "IVP_LIB_DIRECTORY:/usr/local/lib/\n",
      "+++++++++++++++++++++++++++++++++++++++++\n",
      "Bin directory: /home/arg/bin\n",
      "Include directory: /usr/local/include\n",
      "Lib directory: /usr/local/lib/\n",
      "-- Configuring done\n",
      "-- Generating done\n",
      "-- Build files have been written to: /home/arg/pyivp/src/build\n",
      "make[2]: Entering directory '/home/arg/pyivp/src/build'\n",
      "make[3]: Entering directory '/home/arg/pyivp/src/build'\n",
      "make[4]: Entering directory '/home/arg/pyivp/src/build'\n",
      "make[4]: Leaving directory '/home/arg/pyivp/src/build'\n",
      "[ 23%] Built target mbutil\n",
      "make[4]: Entering directory '/home/arg/pyivp/src/build'\n",
      "make[4]: Leaving directory '/home/arg/pyivp/src/build'\n",
      "[100%] Built target geometry\n",
      "make[3]: Leaving directory '/home/arg/pyivp/src/build'\n",
      "make[2]: Leaving directory '/home/arg/pyivp/src/build'\n",
      "make[1]: Leaving directory '/home/arg/pyivp/src'\n",
      "make -C src_unit_tests \n",
      "make[1]: Entering directory '/home/arg/pyivp/src_unit_tests'\n",
      "mkdir build; cd build; cmake ..; make; \n",
      "mkdir: cannot create directory ‘build’: File exists\n",
      " Apps to be built: utest;testConvexHull;testLeftTurn;testIncIntString;testLineCircleIntPts;testSegCircleIntPts;testArcSegCross;testArcSegCrossPts;testDistPointOnArc;testDistPointToArc;testDistPointToArcPt;testDistPtsOnArc;testDistSegToArc;testAngleDiff;testAngleInArc;testSegRayCPA;testPolyRayCPA;testBearingMinMaxToPoly;testDistPointToRay;testCpasRaySegl;testCpasArcSegl\n",
      "-- Configuring done\n",
      "-- Generating done\n",
      "-- Build files have been written to: /home/arg/pyivp/src_unit_tests/build\n",
      "make[2]: Entering directory '/home/arg/pyivp/src_unit_tests/build'\n",
      "make[3]: Entering directory '/home/arg/pyivp/src_unit_tests/build'\n",
      "make[4]: Entering directory '/home/arg/pyivp/src_unit_tests/build'\n",
      "make[4]: Leaving directory '/home/arg/pyivp/src_unit_tests/build'\n",
      "[  6%] Built target utest\n",
      "make[4]: Entering directory '/home/arg/pyivp/src_unit_tests/build'\n",
      "make[4]: Leaving directory '/home/arg/pyivp/src_unit_tests/build'\n",
      "[ 11%] Built target testConvexHull\n",
      "make[4]: Entering directory '/home/arg/pyivp/src_unit_tests/build'\n",
      "make[4]: Leaving directory '/home/arg/pyivp/src_unit_tests/build'\n",
      "[ 16%] Built target testLeftTurn\n",
      "make[4]: Entering directory '/home/arg/pyivp/src_unit_tests/build'\n",
      "make[4]: Leaving directory '/home/arg/pyivp/src_unit_tests/build'\n",
      "[ 20%] Built target testIncIntString\n",
      "make[4]: Entering directory '/home/arg/pyivp/src_unit_tests/build'\n",
      "make[4]: Leaving directory '/home/arg/pyivp/src_unit_tests/build'\n",
      "[ 25%] Built target testLineCircleIntPts\n",
      "make[4]: Entering directory '/home/arg/pyivp/src_unit_tests/build'\n",
      "make[4]: Leaving directory '/home/arg/pyivp/src_unit_tests/build'\n",
      "[ 30%] Built target testSegCircleIntPts\n",
      "make[4]: Entering directory '/home/arg/pyivp/src_unit_tests/build'\n",
      "make[4]: Leaving directory '/home/arg/pyivp/src_unit_tests/build'\n",
      "[ 34%] Built target testArcSegCross\n",
      "make[4]: Entering directory '/home/arg/pyivp/src_unit_tests/build'\n",
      "make[4]: Leaving directory '/home/arg/pyivp/src_unit_tests/build'\n",
      "[ 39%] Built target testArcSegCrossPts\n",
      "make[4]: Entering directory '/home/arg/pyivp/src_unit_tests/build'\n",
      "make[4]: Leaving directory '/home/arg/pyivp/src_unit_tests/build'\n",
      "[ 44%] Built target testDistPointOnArc\n",
      "make[4]: Entering directory '/home/arg/pyivp/src_unit_tests/build'\n",
      "make[4]: Leaving directory '/home/arg/pyivp/src_unit_tests/build'\n",
      "[ 48%] Built target testDistPointToArc\n",
      "make[4]: Entering directory '/home/arg/pyivp/src_unit_tests/build'\n",
      "make[4]: Leaving directory '/home/arg/pyivp/src_unit_tests/build'\n",
      "[ 53%] Built target testDistPointToArcPt\n",
      "make[4]: Entering directory '/home/arg/pyivp/src_unit_tests/build'\n",
      "make[4]: Leaving directory '/home/arg/pyivp/src_unit_tests/build'\n",
      "[ 58%] Built target testDistPtsOnArc\n",
      "make[4]: Entering directory '/home/arg/pyivp/src_unit_tests/build'\n",
      "make[4]: Leaving directory '/home/arg/pyivp/src_unit_tests/build'\n",
      "[ 62%] Built target testDistSegToArc\n",
      "make[4]: Entering directory '/home/arg/pyivp/src_unit_tests/build'\n",
      "make[4]: Leaving directory '/home/arg/pyivp/src_unit_tests/build'\n",
      "[ 67%] Built target testAngleDiff\n",
      "make[4]: Entering directory '/home/arg/pyivp/src_unit_tests/build'\n",
      "make[4]: Leaving directory '/home/arg/pyivp/src_unit_tests/build'\n",
      "[ 72%] Built target testAngleInArc\n",
      "make[4]: Entering directory '/home/arg/pyivp/src_unit_tests/build'\n",
      "make[4]: Leaving directory '/home/arg/pyivp/src_unit_tests/build'\n",
      "[ 76%] Built target testSegRayCPA\n",
      "make[4]: Entering directory '/home/arg/pyivp/src_unit_tests/build'\n",
      "make[4]: Leaving directory '/home/arg/pyivp/src_unit_tests/build'\n",
      "[ 81%] Built target testPolyRayCPA\n",
      "make[4]: Entering directory '/home/arg/pyivp/src_unit_tests/build'\n",
      "make[4]: Leaving directory '/home/arg/pyivp/src_unit_tests/build'\n",
      "[ 86%] Built target testBearingMinMaxToPoly\n",
      "make[4]: Entering directory '/home/arg/pyivp/src_unit_tests/build'\n",
      "make[4]: Leaving directory '/home/arg/pyivp/src_unit_tests/build'\n",
      "[ 90%] Built target testDistPointToRay\n",
      "make[4]: Entering directory '/home/arg/pyivp/src_unit_tests/build'\n",
      "make[4]: Leaving directory '/home/arg/pyivp/src_unit_tests/build'\n",
      "[ 95%] Built target testCpasRaySegl\n",
      "make[4]: Entering directory '/home/arg/pyivp/src_unit_tests/build'\n",
      "make[4]: Leaving directory '/home/arg/pyivp/src_unit_tests/build'\n",
      "[100%] Built target testCpasArcSegl\n",
      "make[3]: Leaving directory '/home/arg/pyivp/src_unit_tests/build'\n",
      "make[2]: Leaving directory '/home/arg/pyivp/src_unit_tests/build'\n",
      "make[1]: Leaving directory '/home/arg/pyivp/src_unit_tests'\n",
      "make -C src/pybind11 \n",
      "make[1]: Entering directory '/home/arg/pyivp/src/pybind11'\n",
      "mkdir build; cd build; cmake ..; make; make install\n",
      "mkdir: cannot create directory ‘build’: File exists\n",
      "-- Configuring done\n",
      "-- Generating done\n",
      "-- Build files have been written to: /home/arg/pyivp/src/pybind11/build\n",
      "make[2]: Entering directory '/home/arg/pyivp/src/pybind11/build'\n",
      "make[3]: Entering directory '/home/arg/pyivp/src/pybind11/build'\n",
      "make[4]: Entering directory '/home/arg/pyivp/src/pybind11/build'\n",
      "make[4]: Leaving directory '/home/arg/pyivp/src/pybind11/build'\n",
      "[100%] Built target pyivp\n",
      "make[3]: Leaving directory '/home/arg/pyivp/src/pybind11/build'\n",
      "make[2]: Leaving directory '/home/arg/pyivp/src/pybind11/build'\n",
      "make[2]: Entering directory '/home/arg/pyivp/src/pybind11/build'\n",
      "make[3]: Entering directory '/home/arg/pyivp/src/pybind11/build'\n",
      "make[4]: Entering directory '/home/arg/pyivp/src/pybind11/build'\n",
      "make[4]: Leaving directory '/home/arg/pyivp/src/pybind11/build'\n",
      "[100%] Built target pyivp\n",
      "make[3]: Leaving directory '/home/arg/pyivp/src/pybind11/build'\n",
      "\u001b[36mInstall the project...\u001b[0m\n",
      "-- Install configuration: \"Release\"\n",
      "-- Up-to-date: /usr/lib/python3/dist-packages/pyivp.cpython-38-x86_64-linux-gnu.so\n",
      "make[2]: Leaving directory '/home/arg/pyivp/src/pybind11/build'\n",
      "make[1]: Leaving directory '/home/arg/pyivp/src/pybind11'\n",
      "nbdev_clean_nbs\n",
      "cd src_unit_tests; ./alltest.sh\n",
      "===========================================\n",
      "NOTE: build  has no cases.utf file to check\n",
      "===========================================\n",
      "===========================================\n",
      "Checking: testAngleDiff/cases.utf\n",
      "===========================================\n",
      "Testing file: cases.utf\n",
      " Line 2 OK \n",
      " Line 3 OK \n",
      " Line 4 OK \n",
      " Line 6 OK \n",
      " Line 8 OK \n",
      " Line 9 OK \n",
      " Line 10 OK \n",
      " Line 11 OK \n",
      " Line 12 OK \n",
      " Line 13 OK \n",
      " Line 14 OK \n",
      " Line 15 OK \n",
      " Line 16 OK \n",
      " Line 17 OK \n",
      " Line 18 OK \n",
      " Line 19 OK \n",
      " Line 20 OK \n",
      " Line 21 OK \n",
      " Line 22 OK \n",
      " Line 23 OK \n",
      " Line 24 OK \n",
      "===========================================\n",
      "Checking: testAngleInArc/cases.utf\n",
      "===========================================\n",
      "Testing file: cases.utf\n",
      " Line 2 OK \n",
      " Line 3 OK \n",
      " Line 4 OK \n",
      " Line 5 OK \n",
      " Line 6 OK \n",
      " Line 7 OK \n",
      " Line 8 OK \n",
      " Line 10 OK \n",
      " Line 11 OK \n",
      " Line 13 OK \n",
      " Line 14 OK \n",
      " Line 16 OK \n",
      " Line 17 OK \n",
      " Line 21 OK \n",
      "===========================================\n",
      "Checking: testArcSegCross/cases.utf\n",
      "===========================================\n",
      "Testing file: cases.utf\n",
      " Line 2 OK \n",
      " Line 3 OK \n",
      " Line 4 OK \n",
      "===========================================\n",
      "Checking: testArcSegCrossPts/cases.utf\n",
      "===========================================\n",
      "Testing file: cases.utf\n",
      " Line 2 OK \n",
      " Line 3 OK \n",
      " Line 6 OK \n",
      "===========================================\n",
      "Checking: testBearingMinMaxToPoly/cases.utf\n",
      "===========================================\n",
      "Testing file: cases.utf\n",
      " Line 3 FAIL \n",
      "sys_cmd: [testBearingMinMaxToPoly poly=250,-50:275,-50:275,-25:250,-25  px=15 py=5]\n",
      "results: [bmin=96.58,bmax=103.17]\n",
      "expected:[bmin=96.58,bmax=97.28]\n",
      " Line 4 FAIL \n",
      "sys_cmd: [testBearingMinMaxToPoly poly=250,-50:275,-50:275,-25:250,-25  px=15 py=-40]\n",
      "results: [bmin=86.35,bmax=92.44]\n",
      "expected:[bmin=86.35,bmax=92.44]\n",
      "Failed on test file: cases.utf\n",
      "===========================================\n",
      "Checking: testConvexHull/cases.utf\n",
      "===========================================\n"
     ]
    },
    {
     "name": "stdout",
     "output_type": "stream",
     "text": [
      "Testing file: cases.utf\n",
      " Line 3 FAIL \n",
      "sys_cmd: [testSegRayCPA pts={107.5,-53.5:112,-43.8:112,-46.1:111.7,-49.3:108.3,-52.7:107.7,-53.3}]\n",
      "results: [Error:arg[pts={107.5,-53.5:112,-43.8:112,-46.1:111.7,-49.3:108.3,-52.7:107.7,-53.3}]Exiting.]\n",
      "expected:[]\n",
      "Failed on test file: cases.utf\n",
      "===========================================\n",
      "Checking: testCpasArcSegl/cases.utf\n",
      "===========================================\n",
      "Testing file: cases.utf\n",
      " Line 4 OK \n",
      " Line 9 OK \n",
      " Line 13 OK \n",
      "===========================================\n",
      "Checking: testCpasRaySegl/cases.utf\n",
      "===========================================\n",
      "Testing file: cases.utf\n",
      " Line 3 OK \n",
      " Line 6 OK \n",
      " Line 9 OK \n",
      " Line 14 OK \n",
      "===========================================\n",
      "Checking: testDistPointOnArc/cases.utf\n",
      "===========================================\n",
      "Testing file: cases.utf\n",
      " Line 3 OK \n",
      " Line 4 OK \n",
      " Line 6 OK \n",
      " Line 7 OK \n",
      "===========================================\n",
      "Checking: testDistPointToArc/cases.utf\n",
      "===========================================\n",
      "Testing file: cases.utf\n",
      " Line 3 OK \n",
      " Line 4 OK \n",
      " Line 5 OK \n",
      " Line 6 OK \n",
      " Line 8 OK \n",
      " Line 9 OK \n",
      " Line 10 OK \n",
      "===========================================\n",
      "Checking: testDistPointToArcPt/cases.utf\n",
      "===========================================\n",
      "Testing file: cases.utf\n",
      " Line 5 OK \n",
      " Line 9 OK \n",
      " Line 13 OK \n",
      " Line 17 OK \n",
      " Line 21 OK \n",
      " Line 26 OK \n",
      "===========================================\n",
      "Checking: testDistPointToRay/cases.utf\n",
      "===========================================\n",
      "Testing file: cases.utf\n",
      " Line 3 OK \n",
      " Line 5 OK \n",
      " Line 6 OK \n",
      " Line 7 OK \n",
      " Line 9 OK \n",
      "===========================================\n",
      "Checking: testDistPtsOnArc/cases.utf\n",
      "===========================================\n",
      "Testing file: cases.utf\n",
      "===========================================\n",
      "Checking: testDistSegListToArc/cases.utf\n",
      "===========================================\n",
      "Testing file: cases.utf\n",
      " Line 3 OK \n",
      " Line 4 OK \n",
      " Line 6 OK \n",
      " Line 7 OK \n",
      " Line 8 OK \n",
      " Line 10 OK \n",
      " Line 13 OK \n",
      " Line 14 OK \n",
      "===========================================\n",
      "Checking: testDistSegToArc/cases.utf\n",
      "===========================================\n",
      "Testing file: cases.utf\n",
      " Line 3 OK \n",
      " Line 4 OK \n",
      " Line 6 OK \n",
      " Line 7 OK \n",
      " Line 8 OK \n",
      " Line 10 OK \n",
      " Line 13 OK \n",
      " Line 14 OK \n",
      " Line 16 OK \n",
      "===========================================\n",
      "Checking: testIncIntString/cases.utf\n",
      "===========================================\n",
      "Testing file: cases.utf\n",
      " Line 2 FAIL \n",
      "sys_cmd: [testIncIntString str=foo23       amt=1  keep=true]\n",
      "results: [new_str=24]\n",
      "expected:[new_str=foo24]\n",
      " Line 3 FAIL \n",
      "sys_cmd: [testIncIntString str=foo23bar    amt=3  keep=true]\n",
      "results: [new_str=26]\n",
      "expected:[new_str=foo26]\n",
      " Line 4 FAIL \n",
      "sys_cmd: [testIncIntString str=foo23bar34  amt=1  keep=true]\n",
      "results: [new_str=2335]\n",
      "expected:[new_str=foo2335]\n",
      " Line 7 OK \n",
      " Line 8 OK \n",
      "Failed on test file: cases.utf\n",
      "===========================================\n",
      "Checking: testLeftTurn/cases.utf\n",
      "===========================================\n",
      "Testing file: cases.utf\n",
      " Line 2 FAIL \n",
      "sys_cmd: [testLeftTurn x1=0 y1=0 x2=0 y2=40 x3=50 y3=40]\n",
      "results: [left_turn=false]\n",
      "expected:[left_turn=true]\n",
      " Line 3 OK \n",
      "Failed on test file: cases.utf\n",
      "===========================================\n",
      "NOTE: testLineCircleIntPts  has no cases.utf file to check\n",
      "===========================================\n",
      "===========================================\n",
      "Checking: testPolyRayCPA/cases.utf\n",
      "===========================================\n",
      "Testing file: cases.utf\n",
      " Line 3 OK \n",
      " Line 4 OK \n",
      " Line 5 OK \n",
      " Line 6 OK \n",
      "===========================================\n",
      "Checking: testSegCircleIntPts/cases.utf\n",
      "===========================================\n",
      "Testing file: cases.utf\n",
      " Line 2 OK \n",
      " Line 3 OK \n",
      " Line 5 OK \n",
      " Line 6 OK \n",
      " Line 8 OK \n",
      "===========================================\n",
      "Checking: testSegRayCPA/cases.utf\n",
      "===========================================\n",
      "Testing file: cases.utf\n",
      " Line 3 OK \n",
      " Line 4 OK \n",
      "===========================================\n",
      "Checking: utest/cases.utf\n",
      "===========================================\n",
      "Testing file: cases.utf\n",
      " Line 3 OK \n",
      " Line 4 OK \n",
      " Line 5 OK \n",
      " Line 6 OK \n",
      " Line 7 OK \n",
      " Line 8 OK \n",
      " Line 10 OK \n",
      "===========================================\n",
      "Checking: utgen/cases.utf\n",
      "===========================================\n",
      "Testing file: cases.utf\n",
      " Line 3 OK \n",
      " Line 4 OK \n",
      " Line 5 OK \n",
      " Line 6 OK \n",
      " Line 7 OK \n",
      " Line 8 OK \n",
      " Line 10 OK \n",
      "cd src/pytest; python3 test_pattern_block.py\n",
      "== Test package and local function. ==\n",
      "C++ result x plus y is: 3\n",
      "Python result x plus y is:  3\n",
      "== Test XYPoint ==\n",
      "x=0,y=0\n",
      "x=10,y=15\n"
     ]
    }
   ],
   "source": [
    "! cd ~/pyivp && make"
   ]
  },
  {
   "cell_type": "markdown",
   "metadata": {},
   "source": [
    "## Run python library in Jupyter Notebook"
   ]
  },
  {
   "cell_type": "code",
   "execution_count": 4,
   "metadata": {},
   "outputs": [],
   "source": [
    "import pyivp"
   ]
  },
  {
   "cell_type": "code",
   "execution_count": 5,
   "metadata": {},
   "outputs": [
    {
     "name": "stdout",
     "output_type": "stream",
     "text": [
      "pybind11 for cpp labs\n"
     ]
    }
   ],
   "source": [
    "print(pyivp.__doc__)"
   ]
  },
  {
   "cell_type": "markdown",
   "metadata": {},
   "source": [
    "## EdgeTag\n",
    "#### create a EdgeTag object py_v1 and initialize it as given value. \n",
    "abs of two numbers must equal 1"
   ]
  },
  {
   "cell_type": "code",
   "execution_count": 6,
   "metadata": {},
   "outputs": [
    {
     "name": "stdout",
     "output_type": "stream",
     "text": [
      "0, 0, \n",
      "1, 2, v1\n"
     ]
    }
   ],
   "source": [
    "'''\n",
    "== print ==\n",
    "after intialize it , we can use this tunction to see the result\n",
    "'''\n",
    "py_1=pyivp.EdgeTag() \n",
    "py_1.print()\n",
    "py_1=pyivp.EdgeTag(1, 2, 'v1') \n",
    "py_1.print()"
   ]
  },
  {
   "cell_type": "code",
   "execution_count": 7,
   "metadata": {},
   "outputs": [
    {
     "name": "stdout",
     "output_type": "stream",
     "text": [
      "valid_result: True\n"
     ]
    }
   ],
   "source": [
    "'''\n",
    "== valid ==\n",
    "if you don't obey the rule above , is will be set (0,0) and no tag, then the func \"valid()\" will return false  \n",
    "'''\n",
    "print('valid_result:', py_1.valid())"
   ]
  },
  {
   "cell_type": "code",
   "execution_count": 8,
   "metadata": {},
   "outputs": [
    {
     "name": "stdout",
     "output_type": "stream",
     "text": [
      "getIndex1_result:  1\n",
      "getIndex2_result:  2\n"
     ]
    }
   ],
   "source": [
    "'''\n",
    "== getIndex1, 2 ==\n",
    "getIndex1,2 will return the value you set above  \n",
    "'''\n",
    "print('getIndex1_result: ',py_1.getIndex1())\n",
    "print('getIndex2_result: ',py_1.getIndex2())"
   ]
  },
  {
   "cell_type": "code",
   "execution_count": 9,
   "metadata": {},
   "outputs": [
    {
     "data": {
      "text/plain": [
       "'new_v1'"
      ]
     },
     "execution_count": 9,
     "metadata": {},
     "output_type": "execute_result"
    }
   ],
   "source": [
    "'''\n",
    "== setTag ==\n",
    "setTag can modify the tag you set before\n",
    "\n",
    "== getTag ==\n",
    "getTag will return the tag\n",
    "'''\n",
    "py_1.setTag('new_v1')\n",
    "py_1.getTag()"
   ]
  },
  {
   "cell_type": "code",
   "execution_count": 10,
   "metadata": {},
   "outputs": [
    {
     "name": "stdout",
     "output_type": "stream",
     "text": [
      "1, 2, new_v1\n"
     ]
    }
   ],
   "source": [
    "'''\n",
    "we can use print function to see the modification above,too\n",
    "'''\n",
    "py_1.print()"
   ]
  },
  {
   "cell_type": "code",
   "execution_count": 11,
   "metadata": {},
   "outputs": [
    {
     "name": "stdout",
     "output_type": "stream",
     "text": [
      "setOnSpec_result True\n",
      "getSpec_result: 56:55:yellow\n"
     ]
    }
   ],
   "source": [
    "'''\n",
    "== setOnSpec ==\n",
    "using setOnSpec can set the new value\n",
    "input: string \n",
    "format:'Index1:Index2:tag'\n",
    "\n",
    "== getSpec ==\n",
    "is can return the result \n",
    "'''\n",
    "print(\"setOnSpec_result\", py_1.setOnSpec(\"56:55:yellow\"))\n",
    "print(\"getSpec_result:\", py_1.getSpec())"
   ]
  },
  {
   "cell_type": "code",
   "execution_count": 12,
   "metadata": {},
   "outputs": [
    {
     "name": "stdout",
     "output_type": "stream",
     "text": [
      "56, 55, yellow\n"
     ]
    }
   ],
   "source": [
    "'''\n",
    "we can also use print function to see the modification above.\n",
    "'''\n",
    "py_1.print()"
   ]
  },
  {
   "cell_type": "code",
   "execution_count": 13,
   "metadata": {},
   "outputs": [
    {
     "name": "stdout",
     "output_type": "stream",
     "text": [
      "matches_result: True\n",
      "matches_result: False\n"
     ]
    }
   ],
   "source": [
    "'''\n",
    "== matches ==\n",
    "true if the given two indices match in either order false otherwise.\n",
    "type1\n",
    "input: ix1, ix2, tag\n",
    "\n",
    "type2\n",
    "input: ix1, ix2\n",
    "'''\n",
    "print(\"matches_result:\", py_1.matches(56, 55, 'yellow'))\n",
    "print(\"matches_result:\", py_1.matches(1, 1))"
   ]
  },
  {
   "cell_type": "code",
   "execution_count": 14,
   "metadata": {},
   "outputs": [
    {
     "name": "stdout",
     "output_type": "stream",
     "text": [
      "setIndices_result: True\n"
     ]
    }
   ],
   "source": [
    "'''\n",
    "== setIndices ==\n",
    "if abs of two index must equal 1, then it can return true,else return false\n",
    "'''\n",
    "print(\"setIndices_result:\", py_1.setIndices(2, 1))"
   ]
  }
 ],
 "metadata": {
  "kernelspec": {
   "display_name": "Python 3 (ipykernel)",
   "language": "python",
   "name": "python3"
  },
  "language_info": {
   "codemirror_mode": {
    "name": "ipython",
    "version": 3
   },
   "file_extension": ".py",
   "mimetype": "text/x-python",
   "name": "python",
   "nbconvert_exporter": "python",
   "pygments_lexer": "ipython3",
   "version": "3.8.10"
  }
 },
 "nbformat": 4,
 "nbformat_minor": 2
}
