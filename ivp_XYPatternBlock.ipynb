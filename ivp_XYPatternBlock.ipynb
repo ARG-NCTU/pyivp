{
 "cells": [
  {
   "cell_type": "markdown",
   "id": "61b3520d",
   "metadata": {},
   "source": [
    "# pyivp.XYPatternBlock\n",
    "\n",
    "> API details."
   ]
  },
  {
   "cell_type": "code",
   "execution_count": null,
   "id": "d3d32f9c",
   "metadata": {},
   "outputs": [],
   "source": [
    "from nbdev.showdoc import *"
   ]
  },
  {
   "cell_type": "markdown",
   "id": "ee78df55",
   "metadata": {},
   "source": [
    "### Compile and Install lib_pyivp (partially)"
   ]
  },
  {
   "cell_type": "code",
   "execution_count": null,
   "id": "474ffc98",
   "metadata": {},
   "outputs": [
    {
     "name": "stdout",
     "output_type": "stream",
     "text": [
      "make -C src\n",
      "make[1]: Entering directory '/home/arg/pyivp/src'\n",
      "mkdir build; cd build; cmake ..; make\n",
      "mkdir: cannot create directory ‘build’: File exists\n",
      "-------------------------------------------------------Use UTM:ON\n",
      "+++++++++++++++++++++++++++++++++++++++++\n",
      "IVP_GUI_CODE will be built......         \n",
      "+++++++++++++++++++++++++++++++++++++++++\n",
      "USING UTM\n",
      "+++++++++++++++++++++++++++++++++++++++++\n",
      "IVP_LIB_DIRECTORY:/usr/local/lib/\n",
      "+++++++++++++++++++++++++++++++++++++++++\n",
      "Bin directory: /home/arg/bin\n",
      "Include directory: /usr/local/include\n",
      "Lib directory: /usr/local/lib/\n",
      "-- Configuring done\n",
      "-- Generating done\n",
      "-- Build files have been written to: /home/arg/pyivp/src/build\n",
      "make[2]: Entering directory '/home/arg/pyivp/src/build'\n",
      "make[3]: Entering directory '/home/arg/pyivp/src/build'\n",
      "make[4]: Entering directory '/home/arg/pyivp/src/build'\n",
      "make[4]: Leaving directory '/home/arg/pyivp/src/build'\n",
      "[ 23%] Built target mbutil\n",
      "make[4]: Entering directory '/home/arg/pyivp/src/build'\n",
      "make[4]: Leaving directory '/home/arg/pyivp/src/build'\n",
      "[100%] Built target geometry\n",
      "make[3]: Leaving directory '/home/arg/pyivp/src/build'\n",
      "make[2]: Leaving directory '/home/arg/pyivp/src/build'\n",
      "make[1]: Leaving directory '/home/arg/pyivp/src'\n",
      "make -C src_unit_tests \n",
      "make[1]: Entering directory '/home/arg/pyivp/src_unit_tests'\n",
      "mkdir build; cd build; cmake ..; make; \n",
      "mkdir: cannot create directory ‘build’: File exists\n",
      " Apps to be built: utest;testConvexHull;testLeftTurn;testIncIntString;testLineCircleIntPts;testSegCircleIntPts;testArcSegCross;testArcSegCrossPts;testDistPointOnArc;testDistPointToArc;testDistPointToArcPt;testDistPtsOnArc;testDistSegToArc;testAngleDiff;testAngleInArc;testSegRayCPA;testPolyRayCPA;testBearingMinMaxToPoly;testDistPointToRay;testCpasRaySegl;testCpasArcSegl\n",
      "-- Configuring done\n",
      "-- Generating done\n",
      "-- Build files have been written to: /home/arg/pyivp/src_unit_tests/build\n",
      "make[2]: Entering directory '/home/arg/pyivp/src_unit_tests/build'\n",
      "make[3]: Entering directory '/home/arg/pyivp/src_unit_tests/build'\n",
      "make[4]: Entering directory '/home/arg/pyivp/src_unit_tests/build'\n",
      "make[4]: Leaving directory '/home/arg/pyivp/src_unit_tests/build'\n",
      "[  6%] Built target utest\n",
      "make[4]: Entering directory '/home/arg/pyivp/src_unit_tests/build'\n",
      "make[4]: Leaving directory '/home/arg/pyivp/src_unit_tests/build'\n",
      "[ 11%] Built target testConvexHull\n",
      "make[4]: Entering directory '/home/arg/pyivp/src_unit_tests/build'\n",
      "make[4]: Leaving directory '/home/arg/pyivp/src_unit_tests/build'\n",
      "[ 16%] Built target testLeftTurn\n",
      "make[4]: Entering directory '/home/arg/pyivp/src_unit_tests/build'\n",
      "make[4]: Leaving directory '/home/arg/pyivp/src_unit_tests/build'\n",
      "[ 20%] Built target testIncIntString\n",
      "make[4]: Entering directory '/home/arg/pyivp/src_unit_tests/build'\n",
      "make[4]: Leaving directory '/home/arg/pyivp/src_unit_tests/build'\n",
      "[ 25%] Built target testLineCircleIntPts\n",
      "make[4]: Entering directory '/home/arg/pyivp/src_unit_tests/build'\n",
      "make[4]: Leaving directory '/home/arg/pyivp/src_unit_tests/build'\n",
      "[ 30%] Built target testSegCircleIntPts\n",
      "make[4]: Entering directory '/home/arg/pyivp/src_unit_tests/build'\n",
      "make[4]: Leaving directory '/home/arg/pyivp/src_unit_tests/build'\n",
      "[ 34%] Built target testArcSegCross\n",
      "make[4]: Entering directory '/home/arg/pyivp/src_unit_tests/build'\n",
      "make[4]: Leaving directory '/home/arg/pyivp/src_unit_tests/build'\n",
      "[ 39%] Built target testArcSegCrossPts\n",
      "make[4]: Entering directory '/home/arg/pyivp/src_unit_tests/build'\n",
      "make[4]: Leaving directory '/home/arg/pyivp/src_unit_tests/build'\n",
      "[ 44%] Built target testDistPointOnArc\n",
      "make[4]: Entering directory '/home/arg/pyivp/src_unit_tests/build'\n",
      "make[4]: Leaving directory '/home/arg/pyivp/src_unit_tests/build'\n",
      "[ 48%] Built target testDistPointToArc\n",
      "make[4]: Entering directory '/home/arg/pyivp/src_unit_tests/build'\n",
      "make[4]: Leaving directory '/home/arg/pyivp/src_unit_tests/build'\n",
      "[ 53%] Built target testDistPointToArcPt\n",
      "make[4]: Entering directory '/home/arg/pyivp/src_unit_tests/build'\n",
      "make[4]: Leaving directory '/home/arg/pyivp/src_unit_tests/build'\n",
      "[ 58%] Built target testDistPtsOnArc\n",
      "make[4]: Entering directory '/home/arg/pyivp/src_unit_tests/build'\n",
      "make[4]: Leaving directory '/home/arg/pyivp/src_unit_tests/build'\n",
      "[ 62%] Built target testDistSegToArc\n",
      "make[4]: Entering directory '/home/arg/pyivp/src_unit_tests/build'\n",
      "make[4]: Leaving directory '/home/arg/pyivp/src_unit_tests/build'\n",
      "[ 67%] Built target testAngleDiff\n",
      "make[4]: Entering directory '/home/arg/pyivp/src_unit_tests/build'\n",
      "make[4]: Leaving directory '/home/arg/pyivp/src_unit_tests/build'\n",
      "[ 72%] Built target testAngleInArc\n",
      "make[4]: Entering directory '/home/arg/pyivp/src_unit_tests/build'\n",
      "make[4]: Leaving directory '/home/arg/pyivp/src_unit_tests/build'\n",
      "[ 76%] Built target testSegRayCPA\n",
      "make[4]: Entering directory '/home/arg/pyivp/src_unit_tests/build'\n",
      "make[4]: Leaving directory '/home/arg/pyivp/src_unit_tests/build'\n",
      "[ 81%] Built target testPolyRayCPA\n",
      "make[4]: Entering directory '/home/arg/pyivp/src_unit_tests/build'\n",
      "make[4]: Leaving directory '/home/arg/pyivp/src_unit_tests/build'\n",
      "[ 86%] Built target testBearingMinMaxToPoly\n",
      "make[4]: Entering directory '/home/arg/pyivp/src_unit_tests/build'\n",
      "make[4]: Leaving directory '/home/arg/pyivp/src_unit_tests/build'\n",
      "[ 90%] Built target testDistPointToRay\n",
      "make[4]: Entering directory '/home/arg/pyivp/src_unit_tests/build'\n",
      "make[4]: Leaving directory '/home/arg/pyivp/src_unit_tests/build'\n",
      "[ 95%] Built target testCpasRaySegl\n",
      "make[4]: Entering directory '/home/arg/pyivp/src_unit_tests/build'\n",
      "make[4]: Leaving directory '/home/arg/pyivp/src_unit_tests/build'\n",
      "[100%] Built target testCpasArcSegl\n",
      "make[3]: Leaving directory '/home/arg/pyivp/src_unit_tests/build'\n",
      "make[2]: Leaving directory '/home/arg/pyivp/src_unit_tests/build'\n",
      "make[1]: Leaving directory '/home/arg/pyivp/src_unit_tests'\n",
      "make -C src/pybind11 \n",
      "make[1]: Entering directory '/home/arg/pyivp/src/pybind11'\n",
      "mkdir build; cd build; cmake ..; make; make install\n",
      "mkdir: cannot create directory ‘build’: File exists\n",
      "-- Configuring done\n",
      "-- Generating done\n",
      "-- Build files have been written to: /home/arg/pyivp/src/pybind11/build\n",
      "make[2]: Entering directory '/home/arg/pyivp/src/pybind11/build'\n",
      "make[3]: Entering directory '/home/arg/pyivp/src/pybind11/build'\n",
      "make[4]: Entering directory '/home/arg/pyivp/src/pybind11/build'\n",
      "make[4]: Leaving directory '/home/arg/pyivp/src/pybind11/build'\n",
      "make[4]: Entering directory '/home/arg/pyivp/src/pybind11/build'\n",
      "[  1%] \u001b[32mBuilding CXX object CMakeFiles/pyivp.dir/XYPatternBlock.cpp.o\u001b[0m\n",
      "\u001b[01m\u001b[K/home/arg/pyivp/src/pybind11/XYPatternBlock.cpp:24:10:\u001b[m\u001b[K \u001b[01;35m\u001b[Kwarning: \u001b[m\u001b[Kmissing terminating \" character\n",
      "   24 |         ,\u001b[01;35m\u001b[K\"\u001b[m\u001b[KBy default, any_segment is set to true and the shortest distance is calculated by considering the endpoints of\n",
      "      |          \u001b[01;35m\u001b[K^\u001b[m\u001b[K\n",
      "\u001b[01m\u001b[K/home/arg/pyivp/src/pybind11/XYPatternBlock.cpp:24:10:\u001b[m\u001b[K \u001b[01;31m\u001b[Kerror: \u001b[m\u001b[Kmissing terminating \" character\n",
      "   24 |         ,\u001b[01;31m\u001b[K\"By default, any_segment is set to true and the shortest distance is calculated by considering the endpoints of\u001b[m\u001b[K\n",
      "      |          \u001b[01;31m\u001b[K^~~~~~~~~~~~~~~~~~~~~~~~~~~~~~~~~~~~~~~~~~~~~~~~~~~~~~~~~~~~~~~~~~~~~~~~~~~~~~~~~~~~~~~~~~~~~~~~~~~~~~~~~~~~~~~\u001b[m\u001b[K\n",
      "\u001b[01m\u001b[K/home/arg/pyivp/src/pybind11/XYPatternBlock.cpp:26:13:\u001b[m\u001b[K \u001b[01;31m\u001b[Kerror: \u001b[m\u001b[Kstray ‘\u001b[01m\u001b[K\\\u001b[m\u001b[K’ in program\n",
      "   26 |             \u001b[01;31m\u001b[K\\\u001b[m\u001b[Kn Returns: -1 if there are any problems or Distance to the shortest entry point.\")\n",
      "      |             \u001b[01;31m\u001b[K^\u001b[m\u001b[K\n",
      "\u001b[01m\u001b[K/home/arg/pyivp/src/pybind11/XYPatternBlock.cpp:26:94:\u001b[m\u001b[K \u001b[01;35m\u001b[Kwarning: \u001b[m\u001b[Kmissing terminating \" character\n",
      "   26 | ere are any problems or Distance to the shortest entry point.\u001b[01;35m\u001b[K\"\u001b[m\u001b[K)\n",
      "      |                                                              \u001b[01;35m\u001b[K^\u001b[m\u001b[K\n",
      "\n",
      "\u001b[01m\u001b[K/home/arg/pyivp/src/pybind11/XYPatternBlock.cpp:26:94:\u001b[m\u001b[K \u001b[01;31m\u001b[Kerror: \u001b[m\u001b[Kmissing terminating \" character\n",
      "   26 | ere are any problems or Distance to the shortest entry point.\u001b[01;31m\u001b[K\")\u001b[m\u001b[K\n",
      "      |                                                              \u001b[01;31m\u001b[K^~\u001b[m\u001b[K\n",
      "\n",
      "\u001b[01m\u001b[K/home/arg/pyivp/src/pybind11/XYPatternBlock.cpp:\u001b[m\u001b[K In function ‘\u001b[01m\u001b[Kvoid init_XYPatternBlock(pybind11::module&)\u001b[m\u001b[K’:\n",
      "\u001b[01m\u001b[K/home/arg/pyivp/src/pybind11/XYPatternBlock.cpp:25:13:\u001b[m\u001b[K \u001b[01;31m\u001b[Kerror: \u001b[m\u001b[K‘\u001b[01m\u001b[KANY\u001b[m\u001b[K’ was not declared in this scope\n",
      "   25 |             \u001b[01;31m\u001b[KANY\u001b[m\u001b[K of the lane segments. If any_segment is false, only the first,last (or outer) lane segments are considered.\n",
      "      |             \u001b[01;31m\u001b[K^~~\u001b[m\u001b[K\n",
      "\u001b[01m\u001b[K/home/arg/pyivp/src/pybind11/XYPatternBlock.cpp:25:64:\u001b[m\u001b[K \u001b[01;31m\u001b[Kerror: \u001b[m\u001b[K‘\u001b[01m\u001b[Konly\u001b[m\u001b[K’ was not declared in this scope\n",
      "   25 |           ANY of the lane segments. If any_segment is false, \u001b[01;31m\u001b[Konly\u001b[m\u001b[K the first,last (or outer) lane segments are considered.\n",
      "      |                                                              \u001b[01;31m\u001b[K^~~~\u001b[m\u001b[K\n",
      "\n",
      "\u001b[01m\u001b[K/home/arg/pyivp/src/pybind11/XYPatternBlock.cpp:25:85:\u001b[m\u001b[K \u001b[01;31m\u001b[Kerror: \u001b[m\u001b[Kexpected primary-expression before ‘\u001b[01m\u001b[Kor\u001b[m\u001b[K’ token\n",
      "   25 | lane segments. If any_segment is false, only the first,last (\u001b[01;31m\u001b[Kor\u001b[m\u001b[K outer) lane segments are considered.\n",
      "      |                                                              \u001b[01;31m\u001b[K^~\u001b[m\u001b[K\n",
      "\n",
      "\u001b[01m\u001b[K/home/arg/pyivp/src/pybind11/XYPatternBlock.cpp:25:88:\u001b[m\u001b[K \u001b[01;31m\u001b[Kerror: \u001b[m\u001b[K‘\u001b[01m\u001b[Kouter\u001b[m\u001b[K’ was not declared in this scope; did you mean ‘\u001b[01m\u001b[Kopterr\u001b[m\u001b[K’?\n",
      "   25 | e segments. If any_segment is false, only the first,last (or \u001b[01;31m\u001b[Kouter\u001b[m\u001b[K) lane segments are considered.\n",
      "      |                                                              \u001b[01;31m\u001b[K^~~~~\u001b[m\u001b[K\n",
      "      |                                                              \u001b[32m\u001b[Kopterr\u001b[m\u001b[K\n",
      "\u001b[01m\u001b[K/home/arg/pyivp/src/pybind11/XYPatternBlock.cpp:25:79:\u001b[m\u001b[K \u001b[01;31m\u001b[Kerror: \u001b[m\u001b[K‘\u001b[01m\u001b[Klast\u001b[m\u001b[K’ was not declared in this scope; did you mean ‘\u001b[01m\u001b[Kpybind11::detail::constexpr_impl::last\u001b[m\u001b[K’?\n",
      "   25 | f the lane segments. If any_segment is false, only the first,\u001b[01;31m\u001b[Klast\u001b[m\u001b[K (or outer) lane segments are considered.\n",
      "      |                                                              \u001b[01;31m\u001b[K^~~~\u001b[m\u001b[K\n",
      "      |                                                              \u001b[32m\u001b[Kpybind11::detail::constexpr_impl::last\u001b[m\u001b[K\n",
      "In file included from \u001b[01m\u001b[K/usr/include/pybind11/pytypes.h:12\u001b[m\u001b[K,\n",
      "                 from \u001b[01m\u001b[K/usr/include/pybind11/cast.h:13\u001b[m\u001b[K,\n",
      "                 from \u001b[01m\u001b[K/usr/include/pybind11/attr.h:13\u001b[m\u001b[K,\n",
      "                 from \u001b[01m\u001b[K/usr/include/pybind11/pybind11.h:44\u001b[m\u001b[K,\n",
      "                 from \u001b[01m\u001b[K/usr/include/pybind11/stl.h:12\u001b[m\u001b[K,\n",
      "                 from \u001b[01m\u001b[K/home/arg/pyivp/src/pybind11/XYPatternBlock.cpp:3\u001b[m\u001b[K:\n",
      "\u001b[01m\u001b[K/usr/include/pybind11/detail/common.h:539:15:\u001b[m\u001b[K \u001b[01;36m\u001b[Knote: \u001b[m\u001b[K‘\u001b[01m\u001b[Kpybind11::detail::constexpr_impl::last\u001b[m\u001b[K’ declared here\n",
      "  539 | constexpr int \u001b[01;36m\u001b[Klast\u001b[m\u001b[K(int i, int result, T v, Ts... vs) { return last(i + 1, v ? i : result, vs...); }\n",
      "      |               \u001b[01;36m\u001b[K^~~~\u001b[m\u001b[K\n"
     ]
    },
    {
     "name": "stdout",
     "output_type": "stream",
     "text": [
      "make[4]: *** [CMakeFiles/pyivp.dir/build.make:76: CMakeFiles/pyivp.dir/XYPatternBlock.cpp.o] Error 1\n",
      "make[4]: Leaving directory '/home/arg/pyivp/src/pybind11/build'\n",
      "make[3]: *** [CMakeFiles/Makefile2:76: CMakeFiles/pyivp.dir/all] Error 2\n",
      "make[3]: Leaving directory '/home/arg/pyivp/src/pybind11/build'\n",
      "make[2]: *** [Makefile:130: all] Error 2\n",
      "make[2]: Leaving directory '/home/arg/pyivp/src/pybind11/build'\n",
      "make[2]: Entering directory '/home/arg/pyivp/src/pybind11/build'\n",
      "make[3]: Entering directory '/home/arg/pyivp/src/pybind11/build'\n",
      "make[4]: Entering directory '/home/arg/pyivp/src/pybind11/build'\n",
      "make[4]: Leaving directory '/home/arg/pyivp/src/pybind11/build'\n",
      "make[4]: Entering directory '/home/arg/pyivp/src/pybind11/build'\n",
      "[  1%] \u001b[32mBuilding CXX object CMakeFiles/pyivp.dir/XYPatternBlock.cpp.o\u001b[0m\n",
      "\u001b[01m\u001b[K/home/arg/pyivp/src/pybind11/XYPatternBlock.cpp:24:10:\u001b[m\u001b[K \u001b[01;35m\u001b[Kwarning: \u001b[m\u001b[Kmissing terminating \" character\n",
      "   24 |         ,\u001b[01;35m\u001b[K\"\u001b[m\u001b[KBy default, any_segment is set to true and the shortest distance is calculated by considering the endpoints of\n",
      "      |          \u001b[01;35m\u001b[K^\u001b[m\u001b[K\n",
      "\u001b[01m\u001b[K/home/arg/pyivp/src/pybind11/XYPatternBlock.cpp:24:10:\u001b[m\u001b[K \u001b[01;31m\u001b[Kerror: \u001b[m\u001b[Kmissing terminating \" character\n",
      "   24 |         ,\u001b[01;31m\u001b[K\"By default, any_segment is set to true and the shortest distance is calculated by considering the endpoints of\u001b[m\u001b[K\n",
      "      |          \u001b[01;31m\u001b[K^~~~~~~~~~~~~~~~~~~~~~~~~~~~~~~~~~~~~~~~~~~~~~~~~~~~~~~~~~~~~~~~~~~~~~~~~~~~~~~~~~~~~~~~~~~~~~~~~~~~~~~~~~~~~~~\u001b[m\u001b[K\n",
      "\u001b[01m\u001b[K/home/arg/pyivp/src/pybind11/XYPatternBlock.cpp:26:13:\u001b[m\u001b[K \u001b[01;31m\u001b[Kerror: \u001b[m\u001b[Kstray ‘\u001b[01m\u001b[K\\\u001b[m\u001b[K’ in program\n",
      "   26 |             \u001b[01;31m\u001b[K\\\u001b[m\u001b[Kn Returns: -1 if there are any problems or Distance to the shortest entry point.\")\n",
      "      |             \u001b[01;31m\u001b[K^\u001b[m\u001b[K\n",
      "\u001b[01m\u001b[K/home/arg/pyivp/src/pybind11/XYPatternBlock.cpp:26:94:\u001b[m\u001b[K \u001b[01;35m\u001b[Kwarning: \u001b[m\u001b[Kmissing terminating \" character\n",
      "   26 | ere are any problems or Distance to the shortest entry point.\u001b[01;35m\u001b[K\"\u001b[m\u001b[K)\n",
      "      |                                                              \u001b[01;35m\u001b[K^\u001b[m\u001b[K\n",
      "\n",
      "\u001b[01m\u001b[K/home/arg/pyivp/src/pybind11/XYPatternBlock.cpp:26:94:\u001b[m\u001b[K \u001b[01;31m\u001b[Kerror: \u001b[m\u001b[Kmissing terminating \" character\n",
      "   26 | ere are any problems or Distance to the shortest entry point.\u001b[01;31m\u001b[K\")\u001b[m\u001b[K\n",
      "      |                                                              \u001b[01;31m\u001b[K^~\u001b[m\u001b[K\n",
      "\n",
      "\u001b[01m\u001b[K/home/arg/pyivp/src/pybind11/XYPatternBlock.cpp:\u001b[m\u001b[K In function ‘\u001b[01m\u001b[Kvoid init_XYPatternBlock(pybind11::module&)\u001b[m\u001b[K’:\n",
      "\u001b[01m\u001b[K/home/arg/pyivp/src/pybind11/XYPatternBlock.cpp:25:13:\u001b[m\u001b[K \u001b[01;31m\u001b[Kerror: \u001b[m\u001b[K‘\u001b[01m\u001b[KANY\u001b[m\u001b[K’ was not declared in this scope\n",
      "   25 |             \u001b[01;31m\u001b[KANY\u001b[m\u001b[K of the lane segments. If any_segment is false, only the first,last (or outer) lane segments are considered.\n",
      "      |             \u001b[01;31m\u001b[K^~~\u001b[m\u001b[K\n",
      "\u001b[01m\u001b[K/home/arg/pyivp/src/pybind11/XYPatternBlock.cpp:25:64:\u001b[m\u001b[K \u001b[01;31m\u001b[Kerror: \u001b[m\u001b[K‘\u001b[01m\u001b[Konly\u001b[m\u001b[K’ was not declared in this scope\n",
      "   25 |           ANY of the lane segments. If any_segment is false, \u001b[01;31m\u001b[Konly\u001b[m\u001b[K the first,last (or outer) lane segments are considered.\n",
      "      |                                                              \u001b[01;31m\u001b[K^~~~\u001b[m\u001b[K\n",
      "\n",
      "\u001b[01m\u001b[K/home/arg/pyivp/src/pybind11/XYPatternBlock.cpp:25:85:\u001b[m\u001b[K \u001b[01;31m\u001b[Kerror: \u001b[m\u001b[Kexpected primary-expression before ‘\u001b[01m\u001b[Kor\u001b[m\u001b[K’ token\n",
      "   25 | lane segments. If any_segment is false, only the first,last (\u001b[01;31m\u001b[Kor\u001b[m\u001b[K outer) lane segments are considered.\n",
      "      |                                                              \u001b[01;31m\u001b[K^~\u001b[m\u001b[K\n",
      "\n",
      "\u001b[01m\u001b[K/home/arg/pyivp/src/pybind11/XYPatternBlock.cpp:25:88:\u001b[m\u001b[K \u001b[01;31m\u001b[Kerror: \u001b[m\u001b[K‘\u001b[01m\u001b[Kouter\u001b[m\u001b[K’ was not declared in this scope; did you mean ‘\u001b[01m\u001b[Kopterr\u001b[m\u001b[K’?\n",
      "   25 | e segments. If any_segment is false, only the first,last (or \u001b[01;31m\u001b[Kouter\u001b[m\u001b[K) lane segments are considered.\n",
      "      |                                                              \u001b[01;31m\u001b[K^~~~~\u001b[m\u001b[K\n",
      "      |                                                              \u001b[32m\u001b[Kopterr\u001b[m\u001b[K\n",
      "\u001b[01m\u001b[K/home/arg/pyivp/src/pybind11/XYPatternBlock.cpp:25:79:\u001b[m\u001b[K \u001b[01;31m\u001b[Kerror: \u001b[m\u001b[K‘\u001b[01m\u001b[Klast\u001b[m\u001b[K’ was not declared in this scope; did you mean ‘\u001b[01m\u001b[Kpybind11::detail::constexpr_impl::last\u001b[m\u001b[K’?\n",
      "   25 | f the lane segments. If any_segment is false, only the first,\u001b[01;31m\u001b[Klast\u001b[m\u001b[K (or outer) lane segments are considered.\n",
      "      |                                                              \u001b[01;31m\u001b[K^~~~\u001b[m\u001b[K\n",
      "      |                                                              \u001b[32m\u001b[Kpybind11::detail::constexpr_impl::last\u001b[m\u001b[K\n",
      "In file included from \u001b[01m\u001b[K/usr/include/pybind11/pytypes.h:12\u001b[m\u001b[K,\n",
      "                 from \u001b[01m\u001b[K/usr/include/pybind11/cast.h:13\u001b[m\u001b[K,\n",
      "                 from \u001b[01m\u001b[K/usr/include/pybind11/attr.h:13\u001b[m\u001b[K,\n",
      "                 from \u001b[01m\u001b[K/usr/include/pybind11/pybind11.h:44\u001b[m\u001b[K,\n",
      "                 from \u001b[01m\u001b[K/usr/include/pybind11/stl.h:12\u001b[m\u001b[K,\n",
      "                 from \u001b[01m\u001b[K/home/arg/pyivp/src/pybind11/XYPatternBlock.cpp:3\u001b[m\u001b[K:\n",
      "\u001b[01m\u001b[K/usr/include/pybind11/detail/common.h:539:15:\u001b[m\u001b[K \u001b[01;36m\u001b[Knote: \u001b[m\u001b[K‘\u001b[01m\u001b[Kpybind11::detail::constexpr_impl::last\u001b[m\u001b[K’ declared here\n",
      "  539 | constexpr int \u001b[01;36m\u001b[Klast\u001b[m\u001b[K(int i, int result, T v, Ts... vs) { return last(i + 1, v ? i : result, vs...); }\n",
      "      |               \u001b[01;36m\u001b[K^~~~\u001b[m\u001b[K\n",
      "make[4]: *** [CMakeFiles/pyivp.dir/build.make:76: CMakeFiles/pyivp.dir/XYPatternBlock.cpp.o] Error 1\n",
      "make[4]: Leaving directory '/home/arg/pyivp/src/pybind11/build'\n",
      "make[3]: *** [CMakeFiles/Makefile2:76: CMakeFiles/pyivp.dir/all] Error 2\n",
      "make[3]: Leaving directory '/home/arg/pyivp/src/pybind11/build'\n",
      "make[2]: *** [Makefile:130: all] Error 2\n",
      "make[2]: Leaving directory '/home/arg/pyivp/src/pybind11/build'\n",
      "make[1]: *** [Makefile:3: all] Error 2\n",
      "make[1]: Leaving directory '/home/arg/pyivp/src/pybind11'\n",
      "make: *** [Makefile:8: build-ivp] Error 2\n"
     ]
    }
   ],
   "source": [
    "! cd ~/pyivp && make"
   ]
  },
  {
   "cell_type": "markdown",
   "id": "34f5c658",
   "metadata": {},
   "source": [
    "### Run python library in Jupyter Notebook"
   ]
  },
  {
   "cell_type": "code",
   "execution_count": null,
   "id": "6a01dea2",
   "metadata": {},
   "outputs": [],
   "source": [
    "import pyivp"
   ]
  },
  {
   "cell_type": "markdown",
   "id": "502f733c",
   "metadata": {},
   "source": [
    "### XYPoint"
   ]
  },
  {
   "cell_type": "code",
   "execution_count": null,
   "id": "2f49a0b1",
   "metadata": {},
   "outputs": [],
   "source": [
    "v1 = pyivp.XYPoint(30, 30)\n",
    "v2 = pyivp.XYPoint(10, 30)\n",
    "v3 = pyivp.XYPoint(30, 10)\n",
    "v4 = pyivp.XYPoint(10, 10)"
   ]
  },
  {
   "cell_type": "markdown",
   "id": "856ab204",
   "metadata": {},
   "source": [
    "### XYPattenBlock"
   ]
  },
  {
   "cell_type": "code",
   "execution_count": null,
   "id": "33238ef6",
   "metadata": {},
   "outputs": [],
   "source": [
    "py_block = pyivp.XYPatternBlock()"
   ]
  },
  {
   "cell_type": "code",
   "execution_count": null,
   "id": "c46c9d19",
   "metadata": {},
   "outputs": [],
   "source": [
    "py_block.addIDPoint(v1)\n",
    "# py_block.addIDPoint(v2)\n",
    "# py_block.addIDPoint(v3)\n",
    "# py_block.addIDPoint(v4)"
   ]
  },
  {
   "cell_type": "code",
   "execution_count": null,
   "id": "5d6cb912",
   "metadata": {},
   "outputs": [
    {
     "name": "stdout",
     "output_type": "stream",
     "text": [
      "distance to entry : 44.72135954999579 \n",
      "distance to cross axis : 10.0\n"
     ]
    }
   ],
   "source": [
    "dist_entry = py_block.distanceToClosestEntry(30,30,True) \n",
    "dist_crossAxis = py_block.distanceToCrossAxis(20,20)\n",
    "print(f'distance to entry : {dist_entry} \\ndistance to cross axis : {dist_crossAxis}')"
   ]
  },
  {
   "cell_type": "code",
   "execution_count": null,
   "id": "dc2dc9ff",
   "metadata": {},
   "outputs": [
    {
     "data": {
      "text/plain": [
       "[<pyivp.XYSegList at 0x7f21c1450930>,\n",
       " <pyivp.XYSegList at 0x7f21c1405630>,\n",
       " <pyivp.XYSegList at 0x7f21c14126f0>,\n",
       " <pyivp.XYSegList at 0x7f21c1413170>,\n",
       " <pyivp.XYSegList at 0x7f21c1413470>]"
      ]
     },
     "execution_count": null,
     "metadata": {},
     "output_type": "execute_result"
    }
   ],
   "source": [
    "py_block.getLaneSegments()"
   ]
  },
  {
   "cell_type": "code",
   "execution_count": null,
   "id": "1734c671",
   "metadata": {},
   "outputs": [],
   "source": [
    "p1,p2,p3,p4,p5 = py_block.getLanePoints()"
   ]
  },
  {
   "cell_type": "code",
   "execution_count": null,
   "id": "c807b470",
   "metadata": {},
   "outputs": [
    {
     "name": "stdout",
     "output_type": "stream",
     "text": [
      "10.0 30.0 0.0\n"
     ]
    }
   ],
   "source": [
    "print(p1.get_vx(),p1.get_vy(),p1.get_vz())"
   ]
  },
  {
   "cell_type": "code",
   "execution_count": null,
   "id": "c69ed228",
   "metadata": {},
   "outputs": [],
   "source": []
  }
 ],
 "metadata": {
  "kernelspec": {
   "display_name": "Python 3 (ipykernel)",
   "language": "python",
   "name": "python3"
  }
 },
 "nbformat": 4,
 "nbformat_minor": 5
}
